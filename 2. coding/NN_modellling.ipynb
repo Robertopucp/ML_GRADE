{
  "nbformat": 4,
  "nbformat_minor": 0,
  "metadata": {
    "colab": {
      "provenance": []
    },
    "kernelspec": {
      "name": "python3",
      "display_name": "Python 3"
    },
    "language_info": {
      "name": "python"
    },
    "accelerator": "GPU",
    "gpuClass": "standard"
  },
  "cells": [
    {
      "cell_type": "code",
      "execution_count": 1,
      "metadata": {
        "id": "ldWRReJR3Qe2",
        "colab": {
          "base_uri": "https://localhost:8080/"
        },
        "outputId": "7d8dda44-940a-4aa6-f6b4-9737ac751eae"
      },
      "outputs": [
        {
          "output_type": "stream",
          "name": "stdout",
          "text": [
            "Looking in indexes: https://pypi.org/simple, https://us-python.pkg.dev/colab-wheels/public/simple/\n",
            "Collecting plotly_express\n",
            "  Downloading plotly_express-0.4.1-py2.py3-none-any.whl (2.9 kB)\n",
            "Requirement already satisfied: patsy>=0.5 in /usr/local/lib/python3.9/dist-packages (from plotly_express) (0.5.3)\n",
            "Requirement already satisfied: scipy>=0.18 in /usr/local/lib/python3.9/dist-packages (from plotly_express) (1.10.1)\n",
            "Requirement already satisfied: numpy>=1.11 in /usr/local/lib/python3.9/dist-packages (from plotly_express) (1.22.4)\n",
            "Requirement already satisfied: statsmodels>=0.9.0 in /usr/local/lib/python3.9/dist-packages (from plotly_express) (0.13.5)\n",
            "Requirement already satisfied: pandas>=0.20.0 in /usr/local/lib/python3.9/dist-packages (from plotly_express) (1.4.4)\n",
            "Requirement already satisfied: plotly>=4.1.0 in /usr/local/lib/python3.9/dist-packages (from plotly_express) (5.13.1)\n",
            "Requirement already satisfied: python-dateutil>=2.8.1 in /usr/local/lib/python3.9/dist-packages (from pandas>=0.20.0->plotly_express) (2.8.2)\n",
            "Requirement already satisfied: pytz>=2020.1 in /usr/local/lib/python3.9/dist-packages (from pandas>=0.20.0->plotly_express) (2022.7.1)\n",
            "Requirement already satisfied: six in /usr/local/lib/python3.9/dist-packages (from patsy>=0.5->plotly_express) (1.16.0)\n",
            "Requirement already satisfied: tenacity>=6.2.0 in /usr/local/lib/python3.9/dist-packages (from plotly>=4.1.0->plotly_express) (8.2.2)\n",
            "Requirement already satisfied: packaging>=21.3 in /usr/local/lib/python3.9/dist-packages (from statsmodels>=0.9.0->plotly_express) (23.0)\n",
            "Installing collected packages: plotly_express\n",
            "Successfully installed plotly_express-0.4.1\n",
            "Looking in indexes: https://pypi.org/simple, https://us-python.pkg.dev/colab-wheels/public/simple/\n",
            "Collecting git+https://github.com/andreinechaev/nvcc4jupyter.git\n",
            "  Cloning https://github.com/andreinechaev/nvcc4jupyter.git to /tmp/pip-req-build-jemt9_qy\n",
            "  Running command git clone --filter=blob:none --quiet https://github.com/andreinechaev/nvcc4jupyter.git /tmp/pip-req-build-jemt9_qy\n",
            "  Resolved https://github.com/andreinechaev/nvcc4jupyter.git to commit aac710a35f52bb78ab34d2e52517237941399eff\n",
            "  Preparing metadata (setup.py) ... \u001b[?25l\u001b[?25hdone\n",
            "Building wheels for collected packages: NVCCPlugin\n",
            "  Building wheel for NVCCPlugin (setup.py) ... \u001b[?25l\u001b[?25hdone\n",
            "  Created wheel for NVCCPlugin: filename=NVCCPlugin-0.0.2-py3-none-any.whl size=4305 sha256=a6d5158ed74cc8f8b158cbff4f5ecfebb422d238069fc333fa21d8976d7dc18b\n",
            "  Stored in directory: /tmp/pip-ephem-wheel-cache-znmc05m3/wheels/db/c1/1f/a2bb07bbb4a1ce3c43921252aeafaa6205f08637e292496f04\n",
            "Successfully built NVCCPlugin\n",
            "Installing collected packages: NVCCPlugin\n",
            "Successfully installed NVCCPlugin-0.0.2\n"
          ]
        }
      ],
      "source": [
        "!pip install plotly_express\n",
        "!pip install git+https://github.com/andreinechaev/nvcc4jupyter.git\n",
        "          "
      ]
    },
    {
      "cell_type": "code",
      "source": [
        "import pandas as pd\n",
        "import numpy as np\n",
        "import matplotlib.pyplot as plt\n",
        "import plotly_express as px\n",
        "import os\n",
        "from sklearn.linear_model import LinearRegression\n",
        "import statsmodels.formula.api as smf\n",
        "from sklearn.preprocessing import MinMaxScaler\n",
        "import sys\n",
        "import torch\n",
        "import torch.nn as nn\n",
        "from patsy import dmatrices\n",
        "import seaborn as sns"
      ],
      "metadata": {
        "id": "HukeyJy3YGUP"
      },
      "execution_count": 28,
      "outputs": []
    },
    {
      "cell_type": "code",
      "source": [
        "dataf = pd.read_excel('/content/sample_data/data_clean.xls')\n",
        "dataf['id_province'] = dataf.groupby('provincia').ngroup()"
      ],
      "metadata": {
        "id": "liMQydbv3h3H"
      },
      "execution_count": 8,
      "outputs": []
    },
    {
      "cell_type": "code",
      "source": [
        "y , data_X = dmatrices(\"precio ~ -1 + C(nmes) + year + C(id_province) + volumen\", \n",
        "        data = dataf, return_type='dataframe')"
      ],
      "metadata": {
        "id": "p9iA8FKUkAg1"
      },
      "execution_count": 12,
      "outputs": []
    },
    {
      "cell_type": "code",
      "source": [
        "data_X"
      ],
      "metadata": {
        "colab": {
          "base_uri": "https://localhost:8080/",
          "height": 505
        },
        "id": "wyxy4lk8kcQz",
        "outputId": "8d5d5a23-8008-480a-8260-ca2f4fa6ad06"
      },
      "execution_count": 13,
      "outputs": [
        {
          "output_type": "execute_result",
          "data": {
            "text/plain": [
              "      C(nmes)[1]  C(nmes)[2]  C(nmes)[3]  C(nmes)[4]  C(nmes)[5]  C(nmes)[6]  \\\n",
              "0            1.0         0.0         0.0         0.0         0.0         0.0   \n",
              "1            1.0         0.0         0.0         0.0         0.0         0.0   \n",
              "2            1.0         0.0         0.0         0.0         0.0         0.0   \n",
              "3            1.0         0.0         0.0         0.0         0.0         0.0   \n",
              "4            1.0         0.0         0.0         0.0         0.0         0.0   \n",
              "...          ...         ...         ...         ...         ...         ...   \n",
              "2906         0.0         0.0         0.0         0.0         0.0         0.0   \n",
              "2907         0.0         0.0         0.0         0.0         0.0         0.0   \n",
              "2908         0.0         0.0         0.0         0.0         0.0         0.0   \n",
              "2909         0.0         0.0         0.0         0.0         0.0         0.0   \n",
              "2910         0.0         0.0         0.0         0.0         0.0         0.0   \n",
              "\n",
              "      C(nmes)[7]  C(nmes)[8]  C(nmes)[9]  C(nmes)[10]  ...  \\\n",
              "0            0.0         0.0         0.0          0.0  ...   \n",
              "1            0.0         0.0         0.0          0.0  ...   \n",
              "2            0.0         0.0         0.0          0.0  ...   \n",
              "3            0.0         0.0         0.0          0.0  ...   \n",
              "4            0.0         0.0         0.0          0.0  ...   \n",
              "...          ...         ...         ...          ...  ...   \n",
              "2906         0.0         0.0         0.0          0.0  ...   \n",
              "2907         0.0         0.0         0.0          0.0  ...   \n",
              "2908         0.0         0.0         0.0          0.0  ...   \n",
              "2909         0.0         0.0         0.0          0.0  ...   \n",
              "2910         0.0         0.0         0.0          0.0  ...   \n",
              "\n",
              "      C(id_province)[T.22]  C(id_province)[T.23]  C(id_province)[T.24]  \\\n",
              "0                      0.0                   0.0                   0.0   \n",
              "1                      0.0                   0.0                   0.0   \n",
              "2                      0.0                   0.0                   0.0   \n",
              "3                      0.0                   0.0                   0.0   \n",
              "4                      0.0                   0.0                   0.0   \n",
              "...                    ...                   ...                   ...   \n",
              "2906                   0.0                   0.0                   0.0   \n",
              "2907                   0.0                   0.0                   0.0   \n",
              "2908                   0.0                   0.0                   0.0   \n",
              "2909                   0.0                   0.0                   0.0   \n",
              "2910                   0.0                   0.0                   0.0   \n",
              "\n",
              "      C(id_province)[T.25]  C(id_province)[T.26]  C(id_province)[T.27]  \\\n",
              "0                      0.0                   0.0                   0.0   \n",
              "1                      0.0                   0.0                   0.0   \n",
              "2                      0.0                   0.0                   0.0   \n",
              "3                      0.0                   0.0                   0.0   \n",
              "4                      0.0                   0.0                   0.0   \n",
              "...                    ...                   ...                   ...   \n",
              "2906                   0.0                   0.0                   0.0   \n",
              "2907                   1.0                   0.0                   0.0   \n",
              "2908                   0.0                   0.0                   0.0   \n",
              "2909                   0.0                   0.0                   0.0   \n",
              "2910                   0.0                   0.0                   0.0   \n",
              "\n",
              "      C(id_province)[T.28]  C(id_province)[T.29]    year  volumen  \n",
              "0                      0.0                   0.0  1997.0  2979.13  \n",
              "1                      0.0                   0.0  1997.0    79.44  \n",
              "2                      0.0                   0.0  1997.0   978.36  \n",
              "3                      0.0                   0.0  1997.0  1170.75  \n",
              "4                      0.0                   0.0  1997.0    10.20  \n",
              "...                    ...                   ...     ...      ...  \n",
              "2906                   0.0                   0.0  2019.0  9557.00  \n",
              "2907                   0.0                   0.0  2019.0  2867.00  \n",
              "2908                   0.0                   0.0  2019.0  4446.00  \n",
              "2909                   0.0                   0.0  2019.0   324.00  \n",
              "2910                   0.0                   0.0  2019.0    88.00  \n",
              "\n",
              "[2911 rows x 43 columns]"
            ],
            "text/html": [
              "\n",
              "  <div id=\"df-60108a80-17c3-41e1-9b0b-808f0a708edf\">\n",
              "    <div class=\"colab-df-container\">\n",
              "      <div>\n",
              "<style scoped>\n",
              "    .dataframe tbody tr th:only-of-type {\n",
              "        vertical-align: middle;\n",
              "    }\n",
              "\n",
              "    .dataframe tbody tr th {\n",
              "        vertical-align: top;\n",
              "    }\n",
              "\n",
              "    .dataframe thead th {\n",
              "        text-align: right;\n",
              "    }\n",
              "</style>\n",
              "<table border=\"1\" class=\"dataframe\">\n",
              "  <thead>\n",
              "    <tr style=\"text-align: right;\">\n",
              "      <th></th>\n",
              "      <th>C(nmes)[1]</th>\n",
              "      <th>C(nmes)[2]</th>\n",
              "      <th>C(nmes)[3]</th>\n",
              "      <th>C(nmes)[4]</th>\n",
              "      <th>C(nmes)[5]</th>\n",
              "      <th>C(nmes)[6]</th>\n",
              "      <th>C(nmes)[7]</th>\n",
              "      <th>C(nmes)[8]</th>\n",
              "      <th>C(nmes)[9]</th>\n",
              "      <th>C(nmes)[10]</th>\n",
              "      <th>...</th>\n",
              "      <th>C(id_province)[T.22]</th>\n",
              "      <th>C(id_province)[T.23]</th>\n",
              "      <th>C(id_province)[T.24]</th>\n",
              "      <th>C(id_province)[T.25]</th>\n",
              "      <th>C(id_province)[T.26]</th>\n",
              "      <th>C(id_province)[T.27]</th>\n",
              "      <th>C(id_province)[T.28]</th>\n",
              "      <th>C(id_province)[T.29]</th>\n",
              "      <th>year</th>\n",
              "      <th>volumen</th>\n",
              "    </tr>\n",
              "  </thead>\n",
              "  <tbody>\n",
              "    <tr>\n",
              "      <th>0</th>\n",
              "      <td>1.0</td>\n",
              "      <td>0.0</td>\n",
              "      <td>0.0</td>\n",
              "      <td>0.0</td>\n",
              "      <td>0.0</td>\n",
              "      <td>0.0</td>\n",
              "      <td>0.0</td>\n",
              "      <td>0.0</td>\n",
              "      <td>0.0</td>\n",
              "      <td>0.0</td>\n",
              "      <td>...</td>\n",
              "      <td>0.0</td>\n",
              "      <td>0.0</td>\n",
              "      <td>0.0</td>\n",
              "      <td>0.0</td>\n",
              "      <td>0.0</td>\n",
              "      <td>0.0</td>\n",
              "      <td>0.0</td>\n",
              "      <td>0.0</td>\n",
              "      <td>1997.0</td>\n",
              "      <td>2979.13</td>\n",
              "    </tr>\n",
              "    <tr>\n",
              "      <th>1</th>\n",
              "      <td>1.0</td>\n",
              "      <td>0.0</td>\n",
              "      <td>0.0</td>\n",
              "      <td>0.0</td>\n",
              "      <td>0.0</td>\n",
              "      <td>0.0</td>\n",
              "      <td>0.0</td>\n",
              "      <td>0.0</td>\n",
              "      <td>0.0</td>\n",
              "      <td>0.0</td>\n",
              "      <td>...</td>\n",
              "      <td>0.0</td>\n",
              "      <td>0.0</td>\n",
              "      <td>0.0</td>\n",
              "      <td>0.0</td>\n",
              "      <td>0.0</td>\n",
              "      <td>0.0</td>\n",
              "      <td>0.0</td>\n",
              "      <td>0.0</td>\n",
              "      <td>1997.0</td>\n",
              "      <td>79.44</td>\n",
              "    </tr>\n",
              "    <tr>\n",
              "      <th>2</th>\n",
              "      <td>1.0</td>\n",
              "      <td>0.0</td>\n",
              "      <td>0.0</td>\n",
              "      <td>0.0</td>\n",
              "      <td>0.0</td>\n",
              "      <td>0.0</td>\n",
              "      <td>0.0</td>\n",
              "      <td>0.0</td>\n",
              "      <td>0.0</td>\n",
              "      <td>0.0</td>\n",
              "      <td>...</td>\n",
              "      <td>0.0</td>\n",
              "      <td>0.0</td>\n",
              "      <td>0.0</td>\n",
              "      <td>0.0</td>\n",
              "      <td>0.0</td>\n",
              "      <td>0.0</td>\n",
              "      <td>0.0</td>\n",
              "      <td>0.0</td>\n",
              "      <td>1997.0</td>\n",
              "      <td>978.36</td>\n",
              "    </tr>\n",
              "    <tr>\n",
              "      <th>3</th>\n",
              "      <td>1.0</td>\n",
              "      <td>0.0</td>\n",
              "      <td>0.0</td>\n",
              "      <td>0.0</td>\n",
              "      <td>0.0</td>\n",
              "      <td>0.0</td>\n",
              "      <td>0.0</td>\n",
              "      <td>0.0</td>\n",
              "      <td>0.0</td>\n",
              "      <td>0.0</td>\n",
              "      <td>...</td>\n",
              "      <td>0.0</td>\n",
              "      <td>0.0</td>\n",
              "      <td>0.0</td>\n",
              "      <td>0.0</td>\n",
              "      <td>0.0</td>\n",
              "      <td>0.0</td>\n",
              "      <td>0.0</td>\n",
              "      <td>0.0</td>\n",
              "      <td>1997.0</td>\n",
              "      <td>1170.75</td>\n",
              "    </tr>\n",
              "    <tr>\n",
              "      <th>4</th>\n",
              "      <td>1.0</td>\n",
              "      <td>0.0</td>\n",
              "      <td>0.0</td>\n",
              "      <td>0.0</td>\n",
              "      <td>0.0</td>\n",
              "      <td>0.0</td>\n",
              "      <td>0.0</td>\n",
              "      <td>0.0</td>\n",
              "      <td>0.0</td>\n",
              "      <td>0.0</td>\n",
              "      <td>...</td>\n",
              "      <td>0.0</td>\n",
              "      <td>0.0</td>\n",
              "      <td>0.0</td>\n",
              "      <td>0.0</td>\n",
              "      <td>0.0</td>\n",
              "      <td>0.0</td>\n",
              "      <td>0.0</td>\n",
              "      <td>0.0</td>\n",
              "      <td>1997.0</td>\n",
              "      <td>10.20</td>\n",
              "    </tr>\n",
              "    <tr>\n",
              "      <th>...</th>\n",
              "      <td>...</td>\n",
              "      <td>...</td>\n",
              "      <td>...</td>\n",
              "      <td>...</td>\n",
              "      <td>...</td>\n",
              "      <td>...</td>\n",
              "      <td>...</td>\n",
              "      <td>...</td>\n",
              "      <td>...</td>\n",
              "      <td>...</td>\n",
              "      <td>...</td>\n",
              "      <td>...</td>\n",
              "      <td>...</td>\n",
              "      <td>...</td>\n",
              "      <td>...</td>\n",
              "      <td>...</td>\n",
              "      <td>...</td>\n",
              "      <td>...</td>\n",
              "      <td>...</td>\n",
              "      <td>...</td>\n",
              "      <td>...</td>\n",
              "    </tr>\n",
              "    <tr>\n",
              "      <th>2906</th>\n",
              "      <td>0.0</td>\n",
              "      <td>0.0</td>\n",
              "      <td>0.0</td>\n",
              "      <td>0.0</td>\n",
              "      <td>0.0</td>\n",
              "      <td>0.0</td>\n",
              "      <td>0.0</td>\n",
              "      <td>0.0</td>\n",
              "      <td>0.0</td>\n",
              "      <td>0.0</td>\n",
              "      <td>...</td>\n",
              "      <td>0.0</td>\n",
              "      <td>0.0</td>\n",
              "      <td>0.0</td>\n",
              "      <td>0.0</td>\n",
              "      <td>0.0</td>\n",
              "      <td>0.0</td>\n",
              "      <td>0.0</td>\n",
              "      <td>0.0</td>\n",
              "      <td>2019.0</td>\n",
              "      <td>9557.00</td>\n",
              "    </tr>\n",
              "    <tr>\n",
              "      <th>2907</th>\n",
              "      <td>0.0</td>\n",
              "      <td>0.0</td>\n",
              "      <td>0.0</td>\n",
              "      <td>0.0</td>\n",
              "      <td>0.0</td>\n",
              "      <td>0.0</td>\n",
              "      <td>0.0</td>\n",
              "      <td>0.0</td>\n",
              "      <td>0.0</td>\n",
              "      <td>0.0</td>\n",
              "      <td>...</td>\n",
              "      <td>0.0</td>\n",
              "      <td>0.0</td>\n",
              "      <td>0.0</td>\n",
              "      <td>1.0</td>\n",
              "      <td>0.0</td>\n",
              "      <td>0.0</td>\n",
              "      <td>0.0</td>\n",
              "      <td>0.0</td>\n",
              "      <td>2019.0</td>\n",
              "      <td>2867.00</td>\n",
              "    </tr>\n",
              "    <tr>\n",
              "      <th>2908</th>\n",
              "      <td>0.0</td>\n",
              "      <td>0.0</td>\n",
              "      <td>0.0</td>\n",
              "      <td>0.0</td>\n",
              "      <td>0.0</td>\n",
              "      <td>0.0</td>\n",
              "      <td>0.0</td>\n",
              "      <td>0.0</td>\n",
              "      <td>0.0</td>\n",
              "      <td>0.0</td>\n",
              "      <td>...</td>\n",
              "      <td>0.0</td>\n",
              "      <td>0.0</td>\n",
              "      <td>0.0</td>\n",
              "      <td>0.0</td>\n",
              "      <td>0.0</td>\n",
              "      <td>0.0</td>\n",
              "      <td>0.0</td>\n",
              "      <td>0.0</td>\n",
              "      <td>2019.0</td>\n",
              "      <td>4446.00</td>\n",
              "    </tr>\n",
              "    <tr>\n",
              "      <th>2909</th>\n",
              "      <td>0.0</td>\n",
              "      <td>0.0</td>\n",
              "      <td>0.0</td>\n",
              "      <td>0.0</td>\n",
              "      <td>0.0</td>\n",
              "      <td>0.0</td>\n",
              "      <td>0.0</td>\n",
              "      <td>0.0</td>\n",
              "      <td>0.0</td>\n",
              "      <td>0.0</td>\n",
              "      <td>...</td>\n",
              "      <td>0.0</td>\n",
              "      <td>0.0</td>\n",
              "      <td>0.0</td>\n",
              "      <td>0.0</td>\n",
              "      <td>0.0</td>\n",
              "      <td>0.0</td>\n",
              "      <td>0.0</td>\n",
              "      <td>0.0</td>\n",
              "      <td>2019.0</td>\n",
              "      <td>324.00</td>\n",
              "    </tr>\n",
              "    <tr>\n",
              "      <th>2910</th>\n",
              "      <td>0.0</td>\n",
              "      <td>0.0</td>\n",
              "      <td>0.0</td>\n",
              "      <td>0.0</td>\n",
              "      <td>0.0</td>\n",
              "      <td>0.0</td>\n",
              "      <td>0.0</td>\n",
              "      <td>0.0</td>\n",
              "      <td>0.0</td>\n",
              "      <td>0.0</td>\n",
              "      <td>...</td>\n",
              "      <td>0.0</td>\n",
              "      <td>0.0</td>\n",
              "      <td>0.0</td>\n",
              "      <td>0.0</td>\n",
              "      <td>0.0</td>\n",
              "      <td>0.0</td>\n",
              "      <td>0.0</td>\n",
              "      <td>0.0</td>\n",
              "      <td>2019.0</td>\n",
              "      <td>88.00</td>\n",
              "    </tr>\n",
              "  </tbody>\n",
              "</table>\n",
              "<p>2911 rows × 43 columns</p>\n",
              "</div>\n",
              "      <button class=\"colab-df-convert\" onclick=\"convertToInteractive('df-60108a80-17c3-41e1-9b0b-808f0a708edf')\"\n",
              "              title=\"Convert this dataframe to an interactive table.\"\n",
              "              style=\"display:none;\">\n",
              "        \n",
              "  <svg xmlns=\"http://www.w3.org/2000/svg\" height=\"24px\"viewBox=\"0 0 24 24\"\n",
              "       width=\"24px\">\n",
              "    <path d=\"M0 0h24v24H0V0z\" fill=\"none\"/>\n",
              "    <path d=\"M18.56 5.44l.94 2.06.94-2.06 2.06-.94-2.06-.94-.94-2.06-.94 2.06-2.06.94zm-11 1L8.5 8.5l.94-2.06 2.06-.94-2.06-.94L8.5 2.5l-.94 2.06-2.06.94zm10 10l.94 2.06.94-2.06 2.06-.94-2.06-.94-.94-2.06-.94 2.06-2.06.94z\"/><path d=\"M17.41 7.96l-1.37-1.37c-.4-.4-.92-.59-1.43-.59-.52 0-1.04.2-1.43.59L10.3 9.45l-7.72 7.72c-.78.78-.78 2.05 0 2.83L4 21.41c.39.39.9.59 1.41.59.51 0 1.02-.2 1.41-.59l7.78-7.78 2.81-2.81c.8-.78.8-2.07 0-2.86zM5.41 20L4 18.59l7.72-7.72 1.47 1.35L5.41 20z\"/>\n",
              "  </svg>\n",
              "      </button>\n",
              "      \n",
              "  <style>\n",
              "    .colab-df-container {\n",
              "      display:flex;\n",
              "      flex-wrap:wrap;\n",
              "      gap: 12px;\n",
              "    }\n",
              "\n",
              "    .colab-df-convert {\n",
              "      background-color: #E8F0FE;\n",
              "      border: none;\n",
              "      border-radius: 50%;\n",
              "      cursor: pointer;\n",
              "      display: none;\n",
              "      fill: #1967D2;\n",
              "      height: 32px;\n",
              "      padding: 0 0 0 0;\n",
              "      width: 32px;\n",
              "    }\n",
              "\n",
              "    .colab-df-convert:hover {\n",
              "      background-color: #E2EBFA;\n",
              "      box-shadow: 0px 1px 2px rgba(60, 64, 67, 0.3), 0px 1px 3px 1px rgba(60, 64, 67, 0.15);\n",
              "      fill: #174EA6;\n",
              "    }\n",
              "\n",
              "    [theme=dark] .colab-df-convert {\n",
              "      background-color: #3B4455;\n",
              "      fill: #D2E3FC;\n",
              "    }\n",
              "\n",
              "    [theme=dark] .colab-df-convert:hover {\n",
              "      background-color: #434B5C;\n",
              "      box-shadow: 0px 1px 3px 1px rgba(0, 0, 0, 0.15);\n",
              "      filter: drop-shadow(0px 1px 2px rgba(0, 0, 0, 0.3));\n",
              "      fill: #FFFFFF;\n",
              "    }\n",
              "  </style>\n",
              "\n",
              "      <script>\n",
              "        const buttonEl =\n",
              "          document.querySelector('#df-60108a80-17c3-41e1-9b0b-808f0a708edf button.colab-df-convert');\n",
              "        buttonEl.style.display =\n",
              "          google.colab.kernel.accessAllowed ? 'block' : 'none';\n",
              "\n",
              "        async function convertToInteractive(key) {\n",
              "          const element = document.querySelector('#df-60108a80-17c3-41e1-9b0b-808f0a708edf');\n",
              "          const dataTable =\n",
              "            await google.colab.kernel.invokeFunction('convertToInteractive',\n",
              "                                                     [key], {});\n",
              "          if (!dataTable) return;\n",
              "\n",
              "          const docLinkHtml = 'Like what you see? Visit the ' +\n",
              "            '<a target=\"_blank\" href=https://colab.research.google.com/notebooks/data_table.ipynb>data table notebook</a>'\n",
              "            + ' to learn more about interactive tables.';\n",
              "          element.innerHTML = '';\n",
              "          dataTable['output_type'] = 'display_data';\n",
              "          await google.colab.output.renderOutput(dataTable, element);\n",
              "          const docLink = document.createElement('div');\n",
              "          docLink.innerHTML = docLinkHtml;\n",
              "          element.appendChild(docLink);\n",
              "        }\n",
              "      </script>\n",
              "    </div>\n",
              "  </div>\n",
              "  "
            ]
          },
          "metadata": {},
          "execution_count": 13
        }
      ]
    },
    {
      "cell_type": "markdown",
      "source": [
        "Definición de dataset de modelamiento"
      ],
      "metadata": {
        "id": "lFZIV-PJ9iOF"
      }
    },
    {
      "cell_type": "code",
      "source": [
        "scaler = MinMaxScaler()\n",
        "X = np.array(data_X)\n",
        "scaler.fit(X)\n",
        "X = scaler.transform(X)\n",
        "X.shape"
      ],
      "metadata": {
        "colab": {
          "base_uri": "https://localhost:8080/"
        },
        "id": "PEL3mIZr9nUP",
        "outputId": "022b43eb-691e-4487-ac0b-1076d41b1269"
      },
      "execution_count": 14,
      "outputs": [
        {
          "output_type": "execute_result",
          "data": {
            "text/plain": [
              "(2911, 43)"
            ]
          },
          "metadata": {},
          "execution_count": 14
        }
      ]
    },
    {
      "cell_type": "code",
      "source": [
        "scaler.fit(y)\n",
        "y = scaler.transform(y)\n",
        "y.shape"
      ],
      "metadata": {
        "colab": {
          "base_uri": "https://localhost:8080/"
        },
        "id": "qJuLpjpj91Hp",
        "outputId": "ebfb1d97-a44b-4cf2-f512-cf613362b6e3"
      },
      "execution_count": 15,
      "outputs": [
        {
          "output_type": "execute_result",
          "data": {
            "text/plain": [
              "(2911, 1)"
            ]
          },
          "metadata": {},
          "execution_count": 15
        }
      ]
    },
    {
      "cell_type": "markdown",
      "source": [
        "Generamos el modelo"
      ],
      "metadata": {
        "id": "C831EBmrBbPr"
      }
    },
    {
      "cell_type": "code",
      "source": [
        "X_np = X.astype(np.float64)\n",
        "y_np = y.astype(np.float32)\n",
        "X_tn= torch.from_numpy(X_np)\n",
        "y_tn = torch.from_numpy(y_np.reshape(-1, 1))\n",
        "X_tn.shape, y_tn.shape"
      ],
      "metadata": {
        "colab": {
          "base_uri": "https://localhost:8080/"
        },
        "id": "IVE_J3I0AnHQ",
        "outputId": "e0551d93-5c87-46c6-af2a-66eda00abdab"
      },
      "execution_count": 16,
      "outputs": [
        {
          "output_type": "execute_result",
          "data": {
            "text/plain": [
              "(torch.Size([2911, 43]), torch.Size([2911, 1]))"
            ]
          },
          "metadata": {},
          "execution_count": 16
        }
      ]
    },
    {
      "cell_type": "code",
      "source": [
        "np.save('X_np.np', X_np)\n",
        "np.save('y_np.np', y_np)"
      ],
      "metadata": {
        "id": "G2qRbXorBoZZ"
      },
      "execution_count": 17,
      "outputs": []
    },
    {
      "cell_type": "code",
      "source": [
        "model = nn.Sequential(\n",
        "  nn.Linear(43, 512),\n",
        "  nn.ReLU(),\n",
        "  nn.Linear(512, 128),\n",
        "  nn.ReLU(),\n",
        "  nn.Linear(128, 32),\n",
        "  nn.ReLU(),\n",
        "  nn.Linear(32, 4),\n",
        "  nn.ReLU(),\n",
        "  nn.Linear(4, 1),\n",
        ")"
      ],
      "metadata": {
        "id": "7V2OBUe5CEk6"
      },
      "execution_count": 18,
      "outputs": []
    },
    {
      "cell_type": "code",
      "source": [
        "optimizador = torch.optim.SGD(model.parameters(), lr=0.001, momentum=0)\n",
        "criterio = torch.nn.MSELoss()"
      ],
      "metadata": {
        "id": "RrzUZ5pSE9kc"
      },
      "execution_count": 19,
      "outputs": []
    },
    {
      "cell_type": "code",
      "source": [
        "torch.cuda.device_count(), torch.cuda.get_device_name(0)"
      ],
      "metadata": {
        "colab": {
          "base_uri": "https://localhost:8080/"
        },
        "id": "iYJofmN8FCLJ",
        "outputId": "14be32cc-103f-4e50-dfdf-083cf4073024"
      },
      "execution_count": 20,
      "outputs": [
        {
          "output_type": "execute_result",
          "data": {
            "text/plain": [
              "(1, 'Tesla T4')"
            ]
          },
          "metadata": {},
          "execution_count": 20
        }
      ]
    },
    {
      "cell_type": "code",
      "source": [
        "model.cuda()\n",
        "X_g = X_tn.float().cuda()\n",
        "y_g = y_tn.cuda()"
      ],
      "metadata": {
        "id": "nxMLdzYbaPcs"
      },
      "execution_count": 21,
      "outputs": []
    },
    {
      "cell_type": "code",
      "source": [
        "X_g.shape, y_g.shape"
      ],
      "metadata": {
        "id": "OutMr3M7FDdF",
        "colab": {
          "base_uri": "https://localhost:8080/"
        },
        "outputId": "7ef2bacc-953e-415e-b696-7add5b4e61d9"
      },
      "execution_count": 22,
      "outputs": [
        {
          "output_type": "execute_result",
          "data": {
            "text/plain": [
              "(torch.Size([2911, 43]), torch.Size([2911, 1]))"
            ]
          },
          "metadata": {},
          "execution_count": 22
        }
      ]
    },
    {
      "cell_type": "code",
      "source": [
        "errores = []\n",
        "preds = []\n",
        "nit = -1\n",
        "EPOCS = 100000"
      ],
      "metadata": {
        "id": "tCvbrAh6aLD-"
      },
      "execution_count": 23,
      "outputs": []
    },
    {
      "cell_type": "code",
      "source": [
        "nit += 1\n",
        "for epo in range(EPOCS):\n",
        "  optimizador.zero_grad()\n",
        "  y_pred = model(X_g)\n",
        "  loss = criterio(y_pred, y_g)\n",
        "  loss.backward()\n",
        "  optimizador.step()\n",
        "  if epo % int(EPOCS/10) == 0:\n",
        "    print(epo, loss.item())\n",
        "    errores.append([epo+nit*EPOCS, loss.item()])\n",
        "    pred = y_pred.cpu().detach().numpy()\n",
        "    preds.append(pred)"
      ],
      "metadata": {
        "colab": {
          "base_uri": "https://localhost:8080/"
        },
        "id": "onHRPC6QaUkJ",
        "outputId": "0702ea0f-fa2d-4a15-c8a0-22c708db35e5"
      },
      "execution_count": null,
      "outputs": [
        {
          "output_type": "stream",
          "name": "stdout",
          "text": [
            "0 0.4848015010356903\n",
            "10000 0.024039003998041153\n",
            "20000 0.02353193797171116\n",
            "30000 0.022837935015559196\n",
            "40000 0.021861758083105087\n",
            "50000 0.02059060148894787\n",
            "60000 0.01929536461830139\n"
          ]
        }
      ]
    },
    {
      "cell_type": "markdown",
      "source": [
        "## Simulation"
      ],
      "metadata": {
        "id": "NW6xRiqwmRgf"
      }
    },
    {
      "cell_type": "code",
      "source": [
        "# Bin scatter plot \n",
        "\n",
        "f, ax = plt.subplots(figsize=(10, 6))\n",
        "\n",
        "ax = sns.regplot(\n",
        "    x = y_np, y = pred, x_bins=40, \n",
        "    order=1, x_estimator=np.mean, fit_reg=True, ci=None, \n",
        "    line_kws={'lw':2,'color':'black', 'linestyle':'--'},\n",
        "    scatter_kws ={'edgecolors':(0, 0, 0), 'alpha':0.8, 'color':'red'}\n",
        "    \n",
        ")\n",
        "\n",
        "plt.title('Prediction and real vlaues (Binscatter)', fontsize= 15)\n",
        "ax.set_xlabel('Real')\n",
        "ax.set_ylabel('Predicted')\n",
        "plt.show()\n",
        "\n",
        "f.savefig('sccater.png', format='png')"
      ],
      "metadata": {
        "colab": {
          "base_uri": "https://localhost:8080/",
          "height": 406
        },
        "id": "fo65fIi8lwlE",
        "outputId": "218ef6b5-c2ba-43fd-fe3e-3cebe769ccfd"
      },
      "execution_count": 30,
      "outputs": [
        {
          "output_type": "display_data",
          "data": {
            "text/plain": [
              "<Figure size 720x432 with 1 Axes>"
            ],
            "image/png": "[encoded data removed]"
          },
          "metadata": {
            "needs_background": "light"
          }
        }
      ]
    },
    {
      "cell_type": "code",
      "source": [
        "# Silumation incremento del 15 % \n",
        "dataf['volumen2'] = dataf['volumen']*1.15\n",
        "\n",
        "X_sim = dataf[ (dataf.nmes.isin([4,5,6])) & ( dataf.year.isin([2015,2016,2017,2018,2019] ) )]\n",
        "y , data_X = dmatrices(\"precio ~ -1 + C(nmes) + year + C(id_province) + volumen2\", \n",
        "        data = X_sim, return_type='dataframe')\n"
      ],
      "metadata": {
        "id": "IwlNFE7Uk6cW"
      },
      "execution_count": 43,
      "outputs": []
    },
    {
      "cell_type": "code",
      "source": [
        "# Trainning model \n",
        "\n",
        "scaler = MinMaxScaler()\n",
        "X = np.array(data_X)\n",
        "scaler.fit(X)\n",
        "X = scaler.transform(X)\n",
        "X.shape\n",
        "\n",
        "scaler.fit(y)\n",
        "y = scaler.transform(y)\n",
        "\n",
        "X_np = X.astype(np.float64)\n",
        "y_np = y.astype(np.float32)\n",
        "X_tn= torch.from_numpy(X_np)\n",
        "y_tn = torch.from_numpy(y_np.reshape(-1, 1))\n",
        "X_tn.shape, y_tn.shape\n",
        "\n",
        "np.save('X_np.np', X_np)\n",
        "np.save('y_np.np', y_np)\n",
        "\n",
        "model = nn.Sequential(\n",
        "  nn.Linear(26, 512),\n",
        "  nn.ReLU(),\n",
        "  nn.Linear(512, 128),\n",
        "  nn.ReLU(),\n",
        "  nn.Linear(128, 32),\n",
        "  nn.ReLU(),\n",
        "  nn.Linear(32, 4),\n",
        "  nn.ReLU(),\n",
        "  nn.Linear(4, 1),\n",
        ")\n",
        "\n",
        "optimizador = torch.optim.SGD(model.parameters(), lr=0.001, momentum=0)\n",
        "criterio = torch.nn.MSELoss()\n",
        "\n",
        "torch.cuda.device_count(), torch.cuda.get_device_name(0)\n",
        "\n",
        "model.cuda()\n",
        "X_g = X_tn.float().cuda()\n",
        "y_g = y_tn.cuda()\n",
        "\n",
        "errores = []\n",
        "preds = []\n",
        "nit = -1\n",
        "EPOCS = 100000\n",
        "\n",
        "nit += 1\n",
        "for epo in range(EPOCS):\n",
        "  optimizador.zero_grad()\n",
        "  y_pred = model(X_g)\n",
        "  loss = criterio(y_pred, y_g)\n",
        "  loss.backward()\n",
        "  optimizador.step()\n",
        "  if epo % int(EPOCS/10) == 0:\n",
        "    print(epo, loss.item())\n",
        "    errores.append([epo+nit*EPOCS, loss.item()])\n",
        "    pred = y_pred.cpu().detach().numpy()\n",
        "    preds.append(pred)"
      ],
      "metadata": {
        "colab": {
          "base_uri": "https://localhost:8080/"
        },
        "id": "08OrWg-pnkez",
        "outputId": "d7d9a3ab-7cdb-47da-a956-f8da315dc48d"
      },
      "execution_count": 45,
      "outputs": [
        {
          "output_type": "stream",
          "name": "stdout",
          "text": [
            "0 0.40502694249153137\n",
            "10000 0.07299213111400604\n",
            "20000 0.04439902305603027\n",
            "30000 0.03399192914366722\n",
            "40000 0.02640138752758503\n",
            "50000 0.019216131418943405\n",
            "60000 0.013748022727668285\n",
            "70000 0.010008195415139198\n",
            "80000 0.00794269796460867\n",
            "90000 0.0066589610651135445\n"
          ]
        }
      ]
    },
    {
      "cell_type": "code",
      "source": [
        "data_1 = data_X[['year']]\n",
        "data_1['precio'] =    pred      \n",
        "data_1['estado'] = 'NN price predicction'\n",
        "data_2 = data_X[['year']]\n",
        "data_2['precio'] = y_np\n",
        "data_2['estado'] = 'Real price'\n",
        "\n",
        "data_plot = pd.concat([data_1, data_2\n",
        "                      ])\n",
        "\n",
        "data_plot"
      ],
      "metadata": {
        "colab": {
          "base_uri": "https://localhost:8080/",
          "height": 861
        },
        "id": "-AP2k4VIngzK",
        "outputId": "22b14732-9cad-4104-8028-7c1d4595fb86"
      },
      "execution_count": 46,
      "outputs": [
        {
          "output_type": "stream",
          "name": "stderr",
          "text": [
            "<ipython-input-46-942ce1d6d392>:2: SettingWithCopyWarning: \n",
            "A value is trying to be set on a copy of a slice from a DataFrame.\n",
            "Try using .loc[row_indexer,col_indexer] = value instead\n",
            "\n",
            "See the caveats in the documentation: https://pandas.pydata.org/pandas-docs/stable/user_guide/indexing.html#returning-a-view-versus-a-copy\n",
            "  data_1['precio'] =    pred\n",
            "<ipython-input-46-942ce1d6d392>:3: SettingWithCopyWarning: \n",
            "A value is trying to be set on a copy of a slice from a DataFrame.\n",
            "Try using .loc[row_indexer,col_indexer] = value instead\n",
            "\n",
            "See the caveats in the documentation: https://pandas.pydata.org/pandas-docs/stable/user_guide/indexing.html#returning-a-view-versus-a-copy\n",
            "  data_1['estado'] = 'NN price predicction'\n",
            "<ipython-input-46-942ce1d6d392>:5: SettingWithCopyWarning: \n",
            "A value is trying to be set on a copy of a slice from a DataFrame.\n",
            "Try using .loc[row_indexer,col_indexer] = value instead\n",
            "\n",
            "See the caveats in the documentation: https://pandas.pydata.org/pandas-docs/stable/user_guide/indexing.html#returning-a-view-versus-a-copy\n",
            "  data_2['precio'] = y_np\n",
            "<ipython-input-46-942ce1d6d392>:6: SettingWithCopyWarning: \n",
            "A value is trying to be set on a copy of a slice from a DataFrame.\n",
            "Try using .loc[row_indexer,col_indexer] = value instead\n",
            "\n",
            "See the caveats in the documentation: https://pandas.pydata.org/pandas-docs/stable/user_guide/indexing.html#returning-a-view-versus-a-copy\n",
            "  data_2['estado'] = 'Real price'\n"
          ]
        },
        {
          "output_type": "execute_result",
          "data": {
            "text/plain": [
              "        year    precio                estado\n",
              "2324  2015.0  0.296561  NN price predicction\n",
              "2325  2015.0  0.285340  NN price predicction\n",
              "2326  2015.0  0.323389  NN price predicction\n",
              "2327  2015.0  0.328225  NN price predicction\n",
              "2328  2015.0  0.322134  NN price predicction\n",
              "...      ...       ...                   ...\n",
              "2842  2019.0  0.763636            Real price\n",
              "2843  2019.0  0.763636            Real price\n",
              "2844  2019.0  0.763636            Real price\n",
              "2845  2019.0  0.763636            Real price\n",
              "2846  2019.0  0.763636            Real price\n",
              "\n",
              "[316 rows x 3 columns]"
            ],
            "text/html": [
              "\n",
              "  <div id=\"df-36f7f01d-398f-47e0-8791-ee8a4d27f7a1\">\n",
              "    <div class=\"colab-df-container\">\n",
              "      <div>\n",
              "<style scoped>\n",
              "    .dataframe tbody tr th:only-of-type {\n",
              "        vertical-align: middle;\n",
              "    }\n",
              "\n",
              "    .dataframe tbody tr th {\n",
              "        vertical-align: top;\n",
              "    }\n",
              "\n",
              "    .dataframe thead th {\n",
              "        text-align: right;\n",
              "    }\n",
              "</style>\n",
              "<table border=\"1\" class=\"dataframe\">\n",
              "  <thead>\n",
              "    <tr style=\"text-align: right;\">\n",
              "      <th></th>\n",
              "      <th>year</th>\n",
              "      <th>precio</th>\n",
              "      <th>estado</th>\n",
              "    </tr>\n",
              "  </thead>\n",
              "  <tbody>\n",
              "    <tr>\n",
              "      <th>2324</th>\n",
              "      <td>2015.0</td>\n",
              "      <td>0.296561</td>\n",
              "      <td>NN price predicction</td>\n",
              "    </tr>\n",
              "    <tr>\n",
              "      <th>2325</th>\n",
              "      <td>2015.0</td>\n",
              "      <td>0.285340</td>\n",
              "      <td>NN price predicction</td>\n",
              "    </tr>\n",
              "    <tr>\n",
              "      <th>2326</th>\n",
              "      <td>2015.0</td>\n",
              "      <td>0.323389</td>\n",
              "      <td>NN price predicction</td>\n",
              "    </tr>\n",
              "    <tr>\n",
              "      <th>2327</th>\n",
              "      <td>2015.0</td>\n",
              "      <td>0.328225</td>\n",
              "      <td>NN price predicction</td>\n",
              "    </tr>\n",
              "    <tr>\n",
              "      <th>2328</th>\n",
              "      <td>2015.0</td>\n",
              "      <td>0.322134</td>\n",
              "      <td>NN price predicction</td>\n",
              "    </tr>\n",
              "    <tr>\n",
              "      <th>...</th>\n",
              "      <td>...</td>\n",
              "      <td>...</td>\n",
              "      <td>...</td>\n",
              "    </tr>\n",
              "    <tr>\n",
              "      <th>2842</th>\n",
              "      <td>2019.0</td>\n",
              "      <td>0.763636</td>\n",
              "      <td>Real price</td>\n",
              "    </tr>\n",
              "    <tr>\n",
              "      <th>2843</th>\n",
              "      <td>2019.0</td>\n",
              "      <td>0.763636</td>\n",
              "      <td>Real price</td>\n",
              "    </tr>\n",
              "    <tr>\n",
              "      <th>2844</th>\n",
              "      <td>2019.0</td>\n",
              "      <td>0.763636</td>\n",
              "      <td>Real price</td>\n",
              "    </tr>\n",
              "    <tr>\n",
              "      <th>2845</th>\n",
              "      <td>2019.0</td>\n",
              "      <td>0.763636</td>\n",
              "      <td>Real price</td>\n",
              "    </tr>\n",
              "    <tr>\n",
              "      <th>2846</th>\n",
              "      <td>2019.0</td>\n",
              "      <td>0.763636</td>\n",
              "      <td>Real price</td>\n",
              "    </tr>\n",
              "  </tbody>\n",
              "</table>\n",
              "<p>316 rows × 3 columns</p>\n",
              "</div>\n",
              "      <button class=\"colab-df-convert\" onclick=\"convertToInteractive('df-36f7f01d-398f-47e0-8791-ee8a4d27f7a1')\"\n",
              "              title=\"Convert this dataframe to an interactive table.\"\n",
              "              style=\"display:none;\">\n",
              "        \n",
              "  <svg xmlns=\"http://www.w3.org/2000/svg\" height=\"24px\"viewBox=\"0 0 24 24\"\n",
              "       width=\"24px\">\n",
              "    <path d=\"M0 0h24v24H0V0z\" fill=\"none\"/>\n",
              "    <path d=\"M18.56 5.44l.94 2.06.94-2.06 2.06-.94-2.06-.94-.94-2.06-.94 2.06-2.06.94zm-11 1L8.5 8.5l.94-2.06 2.06-.94-2.06-.94L8.5 2.5l-.94 2.06-2.06.94zm10 10l.94 2.06.94-2.06 2.06-.94-2.06-.94-.94-2.06-.94 2.06-2.06.94z\"/><path d=\"M17.41 7.96l-1.37-1.37c-.4-.4-.92-.59-1.43-.59-.52 0-1.04.2-1.43.59L10.3 9.45l-7.72 7.72c-.78.78-.78 2.05 0 2.83L4 21.41c.39.39.9.59 1.41.59.51 0 1.02-.2 1.41-.59l7.78-7.78 2.81-2.81c.8-.78.8-2.07 0-2.86zM5.41 20L4 18.59l7.72-7.72 1.47 1.35L5.41 20z\"/>\n",
              "  </svg>\n",
              "      </button>\n",
              "      \n",
              "  <style>\n",
              "    .colab-df-container {\n",
              "      display:flex;\n",
              "      flex-wrap:wrap;\n",
              "      gap: 12px;\n",
              "    }\n",
              "\n",
              "    .colab-df-convert {\n",
              "      background-color: #E8F0FE;\n",
              "      border: none;\n",
              "      border-radius: 50%;\n",
              "      cursor: pointer;\n",
              "      display: none;\n",
              "      fill: #1967D2;\n",
              "      height: 32px;\n",
              "      padding: 0 0 0 0;\n",
              "      width: 32px;\n",
              "    }\n",
              "\n",
              "    .colab-df-convert:hover {\n",
              "      background-color: #E2EBFA;\n",
              "      box-shadow: 0px 1px 2px rgba(60, 64, 67, 0.3), 0px 1px 3px 1px rgba(60, 64, 67, 0.15);\n",
              "      fill: #174EA6;\n",
              "    }\n",
              "\n",
              "    [theme=dark] .colab-df-convert {\n",
              "      background-color: #3B4455;\n",
              "      fill: #D2E3FC;\n",
              "    }\n",
              "\n",
              "    [theme=dark] .colab-df-convert:hover {\n",
              "      background-color: #434B5C;\n",
              "      box-shadow: 0px 1px 3px 1px rgba(0, 0, 0, 0.15);\n",
              "      filter: drop-shadow(0px 1px 2px rgba(0, 0, 0, 0.3));\n",
              "      fill: #FFFFFF;\n",
              "    }\n",
              "  </style>\n",
              "\n",
              "      <script>\n",
              "        const buttonEl =\n",
              "          document.querySelector('#df-36f7f01d-398f-47e0-8791-ee8a4d27f7a1 button.colab-df-convert');\n",
              "        buttonEl.style.display =\n",
              "          google.colab.kernel.accessAllowed ? 'block' : 'none';\n",
              "\n",
              "        async function convertToInteractive(key) {\n",
              "          const element = document.querySelector('#df-36f7f01d-398f-47e0-8791-ee8a4d27f7a1');\n",
              "          const dataTable =\n",
              "            await google.colab.kernel.invokeFunction('convertToInteractive',\n",
              "                                                     [key], {});\n",
              "          if (!dataTable) return;\n",
              "\n",
              "          const docLinkHtml = 'Like what you see? Visit the ' +\n",
              "            '<a target=\"_blank\" href=https://colab.research.google.com/notebooks/data_table.ipynb>data table notebook</a>'\n",
              "            + ' to learn more about interactive tables.';\n",
              "          element.innerHTML = '';\n",
              "          dataTable['output_type'] = 'display_data';\n",
              "          await google.colab.output.renderOutput(dataTable, element);\n",
              "          const docLink = document.createElement('div');\n",
              "          docLink.innerHTML = docLinkHtml;\n",
              "          element.appendChild(docLink);\n",
              "        }\n",
              "      </script>\n",
              "    </div>\n",
              "  </div>\n",
              "  "
            ]
          },
          "metadata": {},
          "execution_count": 46
        }
      ]
    },
    {
      "cell_type": "code",
      "source": [
        "# Plot ploints\n",
        "fig = plt.figure( figsize = ( 10, 9 ) )\n",
        "\n",
        "sns.pointplot( x = \"year\", y = \"precio\", \n",
        "               data = data_plot, ci = 'sd',  hue = 'estado',\n",
        "             dodge = 0.08, linestyles = [ \"-\", \"--\" ] )\n",
        "\n",
        "# x label\n",
        "plt.xlabel( \"Years\" )\n",
        "plt.ylabel( \"Potato price\" )\n",
        "\n",
        "# Change legend title\n",
        "plt.legend( title =  \"Legend:\" )\n",
        "plt.title( 'Prediction and real price (II quarter)' )\n",
        "\n",
        "plt.savefig('plot_simulation_1.png', format='png')"
      ],
      "metadata": {
        "colab": {
          "base_uri": "https://localhost:8080/",
          "height": 658
        },
        "id": "1mhweFzXmaYO",
        "outputId": "e0be49bb-c4e5-46ea-e486-32758a864a71"
      },
      "execution_count": 47,
      "outputs": [
        {
          "output_type": "stream",
          "name": "stderr",
          "text": [
            "<ipython-input-47-88964e258dfe>:4: FutureWarning: \n",
            "\n",
            "The `ci` parameter is deprecated. Use `errorbar='sd'` for the same effect.\n",
            "\n",
            "  sns.pointplot( x = \"year\", y = \"precio\",\n"
          ]
        },
        {
          "output_type": "display_data",
          "data": {
            "text/plain": [
              "<Figure size 720x648 with 1 Axes>"
            ],
            "image/png": "[encoded data removed]"
          },
          "metadata": {
            "needs_background": "light"
          }
        }
      ]
    },
    {
      "cell_type": "code",
      "source": [
        "# simulation incremento de 50%\n",
        "dataf['volumen2'] = dataf['volumen']*1.5\n",
        "\n",
        "X_sim = dataf[ (dataf.nmes.isin([4,5,6])) & ( dataf.year.isin([2015,2016,2017,2018,2019] ) )]\n",
        "y , data_X = dmatrices(\"precio ~ -1 + C(nmes) + year + C(id_province) + volumen2\", \n",
        "        data = X_sim, return_type='dataframe')\n",
        "\n",
        "# Trainning model \n",
        "\n",
        "scaler = MinMaxScaler()\n",
        "X = np.array(data_X)\n",
        "scaler.fit(X)\n",
        "X = scaler.transform(X)\n",
        "X.shape\n",
        "\n",
        "scaler.fit(y)\n",
        "y = scaler.transform(y)\n",
        "\n",
        "X_np = X.astype(np.float64)\n",
        "y_np = y.astype(np.float32)\n",
        "X_tn= torch.from_numpy(X_np)\n",
        "y_tn = torch.from_numpy(y_np.reshape(-1, 1))\n",
        "X_tn.shape, y_tn.shape\n",
        "\n",
        "np.save('X_np.np', X_np)\n",
        "np.save('y_np.np', y_np)\n",
        "\n",
        "model = nn.Sequential(\n",
        "  nn.Linear(26, 512),\n",
        "  nn.ReLU(),\n",
        "  nn.Linear(512, 128),\n",
        "  nn.ReLU(),\n",
        "  nn.Linear(128, 32),\n",
        "  nn.ReLU(),\n",
        "  nn.Linear(32, 4),\n",
        "  nn.ReLU(),\n",
        "  nn.Linear(4, 1),\n",
        ")\n",
        "\n",
        "optimizador = torch.optim.SGD(model.parameters(), lr=0.001, momentum=0)\n",
        "criterio = torch.nn.MSELoss()\n",
        "\n",
        "torch.cuda.device_count(), torch.cuda.get_device_name(0)\n",
        "\n",
        "model.cuda()\n",
        "X_g = X_tn.float().cuda()\n",
        "y_g = y_tn.cuda()\n",
        "\n",
        "errores = []\n",
        "preds = []\n",
        "nit = -1\n",
        "EPOCS = 100000\n",
        "\n",
        "nit += 1\n",
        "for epo in range(EPOCS):\n",
        "  optimizador.zero_grad()\n",
        "  y_pred = model(X_g)\n",
        "  loss = criterio(y_pred, y_g)\n",
        "  loss.backward()\n",
        "  optimizador.step()\n",
        "  if epo % int(EPOCS/10) == 0:\n",
        "    print(epo, loss.item())\n",
        "    errores.append([epo+nit*EPOCS, loss.item()])\n",
        "    pred = y_pred.cpu().detach().numpy()\n",
        "    preds.append(pred)\n",
        "\n",
        "\n",
        "data_1 = data_X[['year']]\n",
        "data_1['precio'] =    pred      \n",
        "data_1['estado'] = 'NN price predicction'\n",
        "data_2 = data_X[['year']]\n",
        "data_2['precio'] = y_np\n",
        "data_2['estado'] = 'Real price'\n",
        "data_plot = pd.concat([data_1, data_2\n",
        "                      ])\n",
        "\n",
        "\n",
        "\n",
        "# Plot ploints\n",
        "fig = plt.figure( figsize = ( 10, 9 ) )\n",
        "\n",
        "sns.pointplot( x = \"year\", y = \"precio\", \n",
        "               data = data_plot, ci = 'sd',  hue = 'estado',\n",
        "             dodge = 0.08, linestyles = [ \"-\", \"--\" ] )\n",
        "\n",
        "# x label\n",
        "plt.xlabel( \"Years\" )\n",
        "plt.ylabel( \"Potato price\" )\n",
        "\n",
        "# Change legend title\n",
        "plt.legend( title =  \"Legend:\" )\n",
        "plt.title( 'Prediction and real price (II quarter)' )\n",
        "\n",
        "plt.savefig('plot_simulation_2.png', format='png')"
      ],
      "metadata": {
        "colab": {
          "base_uri": "https://localhost:8080/",
          "height": 1000
        },
        "id": "TnFR0KjOpFCV",
        "outputId": "149af761-08f1-4f5d-91a0-f8b725917739"
      },
      "execution_count": 49,
      "outputs": [
        {
          "output_type": "stream",
          "name": "stdout",
          "text": [
            "0 0.13671816885471344\n",
            "10000 0.0770830437541008\n",
            "20000 0.04728657379746437\n",
            "30000 0.04033356159925461\n",
            "40000 0.034684550017118454\n",
            "50000 0.027961110696196556\n",
            "60000 0.021051175892353058\n",
            "70000 0.014733396470546722\n",
            "80000 0.010427920147776604\n",
            "90000 0.00793145876377821\n"
          ]
        },
        {
          "output_type": "stream",
          "name": "stderr",
          "text": [
            "<ipython-input-49-0a04603927c0>:69: SettingWithCopyWarning: \n",
            "A value is trying to be set on a copy of a slice from a DataFrame.\n",
            "Try using .loc[row_indexer,col_indexer] = value instead\n",
            "\n",
            "See the caveats in the documentation: https://pandas.pydata.org/pandas-docs/stable/user_guide/indexing.html#returning-a-view-versus-a-copy\n",
            "  data_1['precio'] =    pred\n",
            "<ipython-input-49-0a04603927c0>:70: SettingWithCopyWarning: \n",
            "A value is trying to be set on a copy of a slice from a DataFrame.\n",
            "Try using .loc[row_indexer,col_indexer] = value instead\n",
            "\n",
            "See the caveats in the documentation: https://pandas.pydata.org/pandas-docs/stable/user_guide/indexing.html#returning-a-view-versus-a-copy\n",
            "  data_1['estado'] = 'NN price predicction'\n",
            "<ipython-input-49-0a04603927c0>:72: SettingWithCopyWarning: \n",
            "A value is trying to be set on a copy of a slice from a DataFrame.\n",
            "Try using .loc[row_indexer,col_indexer] = value instead\n",
            "\n",
            "See the caveats in the documentation: https://pandas.pydata.org/pandas-docs/stable/user_guide/indexing.html#returning-a-view-versus-a-copy\n",
            "  data_2['precio'] = y_np\n",
            "<ipython-input-49-0a04603927c0>:73: SettingWithCopyWarning: \n",
            "A value is trying to be set on a copy of a slice from a DataFrame.\n",
            "Try using .loc[row_indexer,col_indexer] = value instead\n",
            "\n",
            "See the caveats in the documentation: https://pandas.pydata.org/pandas-docs/stable/user_guide/indexing.html#returning-a-view-versus-a-copy\n",
            "  data_2['estado'] = 'Real price'\n",
            "<ipython-input-49-0a04603927c0>:82: FutureWarning: \n",
            "\n",
            "The `ci` parameter is deprecated. Use `errorbar='sd'` for the same effect.\n",
            "\n",
            "  sns.pointplot( x = \"year\", y = \"precio\",\n"
          ]
        },
        {
          "output_type": "display_data",
          "data": {
            "text/plain": [
              "<Figure size 720x648 with 1 Axes>"
            ],
            "image/png": "[encoded data removed]"
          },
          "metadata": {
            "needs_background": "light"
          }
        }
      ]
    }
  ]
}