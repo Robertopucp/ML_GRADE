{
 "cells": [
  {
   "cell_type": "markdown",
   "metadata": {},
   "source": [
    "<a href=\"https://colab.research.google.com/github/eduzegarra/grade_01/blob/main/proyecto_papa_v02.ipynb\" target=\"_parent\"><img src=\"https://colab.research.google.com/assets/colab-badge.svg\" alt=\"Open In Colab\"/></a>"
   ]
  },
  {
   "cell_type": "code",
   "execution_count": null,
   "metadata": {
    "id": "ldWRReJR3Qe2"
   },
   "outputs": [],
   "source": [
    "!pip install plotly_express\n",
    "!pip install git+https://github.com/andreinechaev/nvcc4jupyter.git\n",
    "          "
   ]
  },
  {
   "cell_type": "code",
   "execution_count": null,
   "metadata": {
    "id": "HukeyJy3YGUP"
   },
   "outputs": [],
   "source": [
    "import pandas as pd\n",
    "import numpy as np\n",
    "import matplotlib.pyplot as plt\n",
    "import plotly_express as px\n",
    "import os\n",
    "from sklearn.linear_model import LinearRegression\n",
    "import statsmodels.formula.api as smf\n",
    "from sklearn.preprocessing import MinMaxScaler\n",
    "import sys\n",
    "import torch\n",
    "import torch.nn as nn"
   ]
  },
  {
   "cell_type": "code",
   "execution_count": null,
   "metadata": {
    "id": "liMQydbv3h3H"
   },
   "outputs": [],
   "source": [
    "data = pd.read_excel('data_clean.xls')"
   ]
  },
  {
   "cell_type": "code",
   "execution_count": null,
   "metadata": {
    "colab": {
     "base_uri": "https://localhost:8080/",
     "height": 364
    },
    "id": "qW3qyxub3y-h",
    "outputId": "21df580b-0624-421d-a2cc-07a9f0a9a1a5"
   },
   "outputs": [
    {
     "data": {
      "text/html": [
       "\n",
       "  <div id=\"df-7208c05f-f338-40cc-b9e4-b38964164e62\">\n",
       "    <div class=\"colab-df-container\">\n",
       "      <div>\n",
       "<style scoped>\n",
       "    .dataframe tbody tr th:only-of-type {\n",
       "        vertical-align: middle;\n",
       "    }\n",
       "\n",
       "    .dataframe tbody tr th {\n",
       "        vertical-align: top;\n",
       "    }\n",
       "\n",
       "    .dataframe thead th {\n",
       "        text-align: right;\n",
       "    }\n",
       "</style>\n",
       "<table border=\"1\" class=\"dataframe\">\n",
       "  <thead>\n",
       "    <tr style=\"text-align: right;\">\n",
       "      <th></th>\n",
       "      <th>Unnamed: 0</th>\n",
       "      <th>year</th>\n",
       "      <th>nmes</th>\n",
       "      <th>volumen</th>\n",
       "      <th>precio</th>\n",
       "      <th>month</th>\n",
       "      <th>ubigeo</th>\n",
       "      <th>spi</th>\n",
       "      <th>import</th>\n",
       "      <th>ln_price</th>\n",
       "      <th>ln_vol</th>\n",
       "    </tr>\n",
       "  </thead>\n",
       "  <tbody>\n",
       "    <tr>\n",
       "      <th>count</th>\n",
       "      <td>2911.000000</td>\n",
       "      <td>2911.000000</td>\n",
       "      <td>2911.000000</td>\n",
       "      <td>2911.000000</td>\n",
       "      <td>2911.000000</td>\n",
       "      <td>2911.000000</td>\n",
       "      <td>2911.000000</td>\n",
       "      <td>2777.000000</td>\n",
       "      <td>1725.000000</td>\n",
       "      <td>2911.000000</td>\n",
       "      <td>2911.000000</td>\n",
       "    </tr>\n",
       "    <tr>\n",
       "      <th>mean</th>\n",
       "      <td>3799.908966</td>\n",
       "      <td>2008.178976</td>\n",
       "      <td>6.252147</td>\n",
       "      <td>1598.596688</td>\n",
       "      <td>0.714864</td>\n",
       "      <td>6.252147</td>\n",
       "      <td>10.184473</td>\n",
       "      <td>0.286799</td>\n",
       "      <td>30134.535652</td>\n",
       "      <td>-0.402056</td>\n",
       "      <td>5.466768</td>\n",
       "    </tr>\n",
       "    <tr>\n",
       "      <th>std</th>\n",
       "      <td>2120.860185</td>\n",
       "      <td>6.431659</td>\n",
       "      <td>3.360419</td>\n",
       "      <td>2666.261579</td>\n",
       "      <td>0.281379</td>\n",
       "      <td>3.360419</td>\n",
       "      <td>2.638594</td>\n",
       "      <td>0.808362</td>\n",
       "      <td>13378.520204</td>\n",
       "      <td>0.356919</td>\n",
       "      <td>2.298408</td>\n",
       "    </tr>\n",
       "    <tr>\n",
       "      <th>min</th>\n",
       "      <td>1.000000</td>\n",
       "      <td>1997.000000</td>\n",
       "      <td>1.000000</td>\n",
       "      <td>0.600000</td>\n",
       "      <td>0.300000</td>\n",
       "      <td>1.000000</td>\n",
       "      <td>5.000000</td>\n",
       "      <td>-1.670000</td>\n",
       "      <td>13578.000000</td>\n",
       "      <td>-1.203973</td>\n",
       "      <td>-0.510826</td>\n",
       "    </tr>\n",
       "    <tr>\n",
       "      <th>25%</th>\n",
       "      <td>2007.500000</td>\n",
       "      <td>2003.000000</td>\n",
       "      <td>3.000000</td>\n",
       "      <td>31.095000</td>\n",
       "      <td>0.550000</td>\n",
       "      <td>3.000000</td>\n",
       "      <td>10.000000</td>\n",
       "      <td>-0.260000</td>\n",
       "      <td>19536.000000</td>\n",
       "      <td>-0.597837</td>\n",
       "      <td>3.437045</td>\n",
       "    </tr>\n",
       "    <tr>\n",
       "      <th>50%</th>\n",
       "      <td>3827.000000</td>\n",
       "      <td>2008.000000</td>\n",
       "      <td>6.000000</td>\n",
       "      <td>197.000000</td>\n",
       "      <td>0.640000</td>\n",
       "      <td>6.000000</td>\n",
       "      <td>12.000000</td>\n",
       "      <td>0.310000</td>\n",
       "      <td>23019.000000</td>\n",
       "      <td>-0.446287</td>\n",
       "      <td>5.283204</td>\n",
       "    </tr>\n",
       "    <tr>\n",
       "      <th>75%</th>\n",
       "      <td>5604.500000</td>\n",
       "      <td>2014.000000</td>\n",
       "      <td>9.000000</td>\n",
       "      <td>2042.000000</td>\n",
       "      <td>0.790000</td>\n",
       "      <td>9.000000</td>\n",
       "      <td>12.000000</td>\n",
       "      <td>0.960000</td>\n",
       "      <td>40793.000000</td>\n",
       "      <td>-0.235722</td>\n",
       "      <td>7.621681</td>\n",
       "    </tr>\n",
       "    <tr>\n",
       "      <th>max</th>\n",
       "      <td>7459.000000</td>\n",
       "      <td>2019.000000</td>\n",
       "      <td>12.000000</td>\n",
       "      <td>16033.000000</td>\n",
       "      <td>2.090000</td>\n",
       "      <td>12.000000</td>\n",
       "      <td>12.000000</td>\n",
       "      <td>2.190000</td>\n",
       "      <td>52938.000000</td>\n",
       "      <td>0.737164</td>\n",
       "      <td>9.682404</td>\n",
       "    </tr>\n",
       "  </tbody>\n",
       "</table>\n",
       "</div>\n",
       "      <button class=\"colab-df-convert\" onclick=\"convertToInteractive('df-7208c05f-f338-40cc-b9e4-b38964164e62')\"\n",
       "              title=\"Convert this dataframe to an interactive table.\"\n",
       "              style=\"display:none;\">\n",
       "        \n",
       "  <svg xmlns=\"http://www.w3.org/2000/svg\" height=\"24px\"viewBox=\"0 0 24 24\"\n",
       "       width=\"24px\">\n",
       "    <path d=\"M0 0h24v24H0V0z\" fill=\"none\"/>\n",
       "    <path d=\"M18.56 5.44l.94 2.06.94-2.06 2.06-.94-2.06-.94-.94-2.06-.94 2.06-2.06.94zm-11 1L8.5 8.5l.94-2.06 2.06-.94-2.06-.94L8.5 2.5l-.94 2.06-2.06.94zm10 10l.94 2.06.94-2.06 2.06-.94-2.06-.94-.94-2.06-.94 2.06-2.06.94z\"/><path d=\"M17.41 7.96l-1.37-1.37c-.4-.4-.92-.59-1.43-.59-.52 0-1.04.2-1.43.59L10.3 9.45l-7.72 7.72c-.78.78-.78 2.05 0 2.83L4 21.41c.39.39.9.59 1.41.59.51 0 1.02-.2 1.41-.59l7.78-7.78 2.81-2.81c.8-.78.8-2.07 0-2.86zM5.41 20L4 18.59l7.72-7.72 1.47 1.35L5.41 20z\"/>\n",
       "  </svg>\n",
       "      </button>\n",
       "      \n",
       "  <style>\n",
       "    .colab-df-container {\n",
       "      display:flex;\n",
       "      flex-wrap:wrap;\n",
       "      gap: 12px;\n",
       "    }\n",
       "\n",
       "    .colab-df-convert {\n",
       "      background-color: #E8F0FE;\n",
       "      border: none;\n",
       "      border-radius: 50%;\n",
       "      cursor: pointer;\n",
       "      display: none;\n",
       "      fill: #1967D2;\n",
       "      height: 32px;\n",
       "      padding: 0 0 0 0;\n",
       "      width: 32px;\n",
       "    }\n",
       "\n",
       "    .colab-df-convert:hover {\n",
       "      background-color: #E2EBFA;\n",
       "      box-shadow: 0px 1px 2px rgba(60, 64, 67, 0.3), 0px 1px 3px 1px rgba(60, 64, 67, 0.15);\n",
       "      fill: #174EA6;\n",
       "    }\n",
       "\n",
       "    [theme=dark] .colab-df-convert {\n",
       "      background-color: #3B4455;\n",
       "      fill: #D2E3FC;\n",
       "    }\n",
       "\n",
       "    [theme=dark] .colab-df-convert:hover {\n",
       "      background-color: #434B5C;\n",
       "      box-shadow: 0px 1px 3px 1px rgba(0, 0, 0, 0.15);\n",
       "      filter: drop-shadow(0px 1px 2px rgba(0, 0, 0, 0.3));\n",
       "      fill: #FFFFFF;\n",
       "    }\n",
       "  </style>\n",
       "\n",
       "      <script>\n",
       "        const buttonEl =\n",
       "          document.querySelector('#df-7208c05f-f338-40cc-b9e4-b38964164e62 button.colab-df-convert');\n",
       "        buttonEl.style.display =\n",
       "          google.colab.kernel.accessAllowed ? 'block' : 'none';\n",
       "\n",
       "        async function convertToInteractive(key) {\n",
       "          const element = document.querySelector('#df-7208c05f-f338-40cc-b9e4-b38964164e62');\n",
       "          const dataTable =\n",
       "            await google.colab.kernel.invokeFunction('convertToInteractive',\n",
       "                                                     [key], {});\n",
       "          if (!dataTable) return;\n",
       "\n",
       "          const docLinkHtml = 'Like what you see? Visit the ' +\n",
       "            '<a target=\"_blank\" href=https://colab.research.google.com/notebooks/data_table.ipynb>data table notebook</a>'\n",
       "            + ' to learn more about interactive tables.';\n",
       "          element.innerHTML = '';\n",
       "          dataTable['output_type'] = 'display_data';\n",
       "          await google.colab.output.renderOutput(dataTable, element);\n",
       "          const docLink = document.createElement('div');\n",
       "          docLink.innerHTML = docLinkHtml;\n",
       "          element.appendChild(docLink);\n",
       "        }\n",
       "      </script>\n",
       "    </div>\n",
       "  </div>\n",
       "  "
      ],
      "text/plain": [
       "        Unnamed: 0         year         nmes       volumen       precio  \\\n",
       "count  2911.000000  2911.000000  2911.000000   2911.000000  2911.000000   \n",
       "mean   3799.908966  2008.178976     6.252147   1598.596688     0.714864   \n",
       "std    2120.860185     6.431659     3.360419   2666.261579     0.281379   \n",
       "min       1.000000  1997.000000     1.000000      0.600000     0.300000   \n",
       "25%    2007.500000  2003.000000     3.000000     31.095000     0.550000   \n",
       "50%    3827.000000  2008.000000     6.000000    197.000000     0.640000   \n",
       "75%    5604.500000  2014.000000     9.000000   2042.000000     0.790000   \n",
       "max    7459.000000  2019.000000    12.000000  16033.000000     2.090000   \n",
       "\n",
       "             month       ubigeo          spi        import     ln_price  \\\n",
       "count  2911.000000  2911.000000  2777.000000   1725.000000  2911.000000   \n",
       "mean      6.252147    10.184473     0.286799  30134.535652    -0.402056   \n",
       "std       3.360419     2.638594     0.808362  13378.520204     0.356919   \n",
       "min       1.000000     5.000000    -1.670000  13578.000000    -1.203973   \n",
       "25%       3.000000    10.000000    -0.260000  19536.000000    -0.597837   \n",
       "50%       6.000000    12.000000     0.310000  23019.000000    -0.446287   \n",
       "75%       9.000000    12.000000     0.960000  40793.000000    -0.235722   \n",
       "max      12.000000    12.000000     2.190000  52938.000000     0.737164   \n",
       "\n",
       "            ln_vol  \n",
       "count  2911.000000  \n",
       "mean      5.466768  \n",
       "std       2.298408  \n",
       "min      -0.510826  \n",
       "25%       3.437045  \n",
       "50%       5.283204  \n",
       "75%       7.621681  \n",
       "max       9.682404  "
      ]
     },
     "execution_count": 5,
     "metadata": {},
     "output_type": "execute_result"
    }
   ],
   "source": [
    "data.describe()"
   ]
  },
  {
   "cell_type": "code",
   "execution_count": null,
   "metadata": {
    "colab": {
     "base_uri": "https://localhost:8080/"
    },
    "id": "4WQdAMzY7vxH",
    "outputId": "7b1464ca-eacb-45d3-dbd9-406face212ba"
   },
   "outputs": [
    {
     "data": {
      "text/plain": [
       "Index(['Unnamed: 0', 'mm', 'year', 'nmes', 'variedad', 'provincia', 'volumen',\n",
       "       'precio', 'month', 'ubigeo', 'dep', 'spi', 'import', 'ln_price',\n",
       "       'ln_vol'],\n",
       "      dtype='object')"
      ]
     },
     "execution_count": 8,
     "metadata": {},
     "output_type": "execute_result"
    }
   ],
   "source": [
    "data.columns"
   ]
  },
  {
   "cell_type": "code",
   "execution_count": null,
   "metadata": {
    "colab": {
     "base_uri": "https://localhost:8080/"
    },
    "id": "UPMftjNJ73aY",
    "outputId": "388e8529-784c-4759-e9b6-7487aeb32f57"
   },
   "outputs": [
    {
     "data": {
      "text/plain": [
       "array(['Papa Blanca'], dtype=object)"
      ]
     },
     "execution_count": 14,
     "metadata": {},
     "output_type": "execute_result"
    }
   ],
   "source": [
    "data['variedad'].unique()"
   ]
  },
  {
   "cell_type": "code",
   "execution_count": null,
   "metadata": {
    "colab": {
     "base_uri": "https://localhost:8080/"
    },
    "id": "riueJTf48pjH",
    "outputId": "fbadc96d-458b-46e7-f629-d1f6f329ad40"
   },
   "outputs": [
    {
     "data": {
      "text/plain": [
       "array(['Huánuco', 'Junín', 'Ayacucho', nan], dtype=object)"
      ]
     },
     "execution_count": 15,
     "metadata": {},
     "output_type": "execute_result"
    }
   ],
   "source": [
    "data['dep'].unique()"
   ]
  },
  {
   "cell_type": "code",
   "execution_count": null,
   "metadata": {
    "colab": {
     "base_uri": "https://localhost:8080/"
    },
    "id": "R1QW163z9EPy",
    "outputId": "259e626f-e20f-499e-cf26-da2649d3a9c9"
   },
   "outputs": [
    {
     "data": {
      "text/plain": [
       "<bound method DataFrame.info of       Unnamed: 0         mm  year  nmes     variedad   provincia  volumen  \\\n",
       "0              1 1997-01-01  1997     1  Papa Blanca     Huanuco  2979.13   \n",
       "1              5 1997-01-01  1997     1  Papa Blanca  Concepcion    79.44   \n",
       "2              6 1997-01-01  1997     1  Papa Blanca    Pachitea   978.36   \n",
       "3              7 1997-01-01  1997     1  Papa Blanca    Huancayo  1170.75   \n",
       "4              8 1997-01-01  1997     1  Papa Blanca    Oxapampa    10.20   \n",
       "...          ...        ...   ...   ...          ...         ...      ...   \n",
       "2906        7449 2019-12-01  2019    12  Papa Blanca     Huanuco  9557.00   \n",
       "2907        7450 2019-12-01  2019    12  Papa Blanca       Tarma  2867.00   \n",
       "2908        7451 2019-12-01  2019    12  Papa Blanca    Huancayo  4446.00   \n",
       "2909        7453 2019-12-01  2019    12  Papa Blanca    Huamanga   324.00   \n",
       "2910        7459 2019-12-01  2019    12  Papa Blanca      Huanta    88.00   \n",
       "\n",
       "      precio  month  ubigeo      dep   spi  import  ln_price    ln_vol  \n",
       "0       0.56      1      10  Huánuco -0.31     NaN -0.579818  7.999387  \n",
       "1       0.56      1      12    Junín -0.26     NaN -0.579818  4.375002  \n",
       "2       0.56      1      10  Huánuco -0.31     NaN -0.579818  6.885878  \n",
       "3       0.56      1      12    Junín -0.26     NaN -0.579818  7.065400  \n",
       "4       0.56      1      12    Junín -0.26     NaN -0.579818  2.322388  \n",
       "...      ...    ...     ...      ...   ...     ...       ...       ...  \n",
       "2906    1.17     12      10      NaN   NaN     NaN  0.157004  9.165029  \n",
       "2907    1.17     12      12      NaN   NaN     NaN  0.157004  7.961021  \n",
       "2908    1.17     12      12      NaN   NaN     NaN  0.157004  8.399760  \n",
       "2909    1.17     12       5      NaN   NaN     NaN  0.157004  5.780744  \n",
       "2910    1.17     12       5      NaN   NaN     NaN  0.157004  4.477337  \n",
       "\n",
       "[2911 rows x 15 columns]>"
      ]
     },
     "execution_count": 16,
     "metadata": {},
     "output_type": "execute_result"
    }
   ],
   "source": [
    "data.info"
   ]
  },
  {
   "cell_type": "markdown",
   "metadata": {
    "id": "hWJGBzn55X-z"
   },
   "source": [
    "Generamos dummies para el modelo de redes neuronales"
   ]
  },
  {
   "cell_type": "code",
   "execution_count": null,
   "metadata": {
    "id": "xrLauJDu4dWv"
   },
   "outputs": [],
   "source": [
    "data_dum = pd.get_dummies(data.drop('Unnamed: 0', axis=1), columns=['nmes', 'provincia'])"
   ]
  },
  {
   "cell_type": "code",
   "execution_count": null,
   "metadata": {
    "colab": {
     "base_uri": "https://localhost:8080/",
     "height": 410
    },
    "id": "xT_LNO5Z708y",
    "outputId": "c2d23319-1f96-4363-d4b3-d2959f2b3631"
   },
   "outputs": [
    {
     "data": {
      "text/html": [
       "\n",
       "  <div id=\"df-7ae989e3-e5e7-45b0-a838-a5a98dce976a\">\n",
       "    <div class=\"colab-df-container\">\n",
       "      <div>\n",
       "<style scoped>\n",
       "    .dataframe tbody tr th:only-of-type {\n",
       "        vertical-align: middle;\n",
       "    }\n",
       "\n",
       "    .dataframe tbody tr th {\n",
       "        vertical-align: top;\n",
       "    }\n",
       "\n",
       "    .dataframe thead th {\n",
       "        text-align: right;\n",
       "    }\n",
       "</style>\n",
       "<table border=\"1\" class=\"dataframe\">\n",
       "  <thead>\n",
       "    <tr style=\"text-align: right;\">\n",
       "      <th></th>\n",
       "      <th>year</th>\n",
       "      <th>volumen</th>\n",
       "      <th>precio</th>\n",
       "      <th>month</th>\n",
       "      <th>ubigeo</th>\n",
       "      <th>spi</th>\n",
       "      <th>import</th>\n",
       "      <th>ln_price</th>\n",
       "      <th>ln_vol</th>\n",
       "      <th>nmes_1</th>\n",
       "      <th>...</th>\n",
       "      <th>provincia_Pachitea</th>\n",
       "      <th>provincia_Parinacochas</th>\n",
       "      <th>provincia_Paucar Del Sar Sara</th>\n",
       "      <th>provincia_Satipo</th>\n",
       "      <th>provincia_Sucre</th>\n",
       "      <th>provincia_Tarma</th>\n",
       "      <th>provincia_Tayacaja</th>\n",
       "      <th>provincia_Victor Fajardo</th>\n",
       "      <th>provincia_Vilcas Huaman</th>\n",
       "      <th>provincia_Yauli</th>\n",
       "    </tr>\n",
       "  </thead>\n",
       "  <tbody>\n",
       "    <tr>\n",
       "      <th>count</th>\n",
       "      <td>2911.000000</td>\n",
       "      <td>2911.000000</td>\n",
       "      <td>2911.000000</td>\n",
       "      <td>2911.000000</td>\n",
       "      <td>2911.000000</td>\n",
       "      <td>2777.000000</td>\n",
       "      <td>1725.000000</td>\n",
       "      <td>2911.000000</td>\n",
       "      <td>2911.000000</td>\n",
       "      <td>2911.000000</td>\n",
       "      <td>...</td>\n",
       "      <td>2911.000000</td>\n",
       "      <td>2911.000000</td>\n",
       "      <td>2911.000000</td>\n",
       "      <td>2911.000000</td>\n",
       "      <td>2911.000000</td>\n",
       "      <td>2911.000000</td>\n",
       "      <td>2911.000000</td>\n",
       "      <td>2911.000000</td>\n",
       "      <td>2911.000000</td>\n",
       "      <td>2911.000000</td>\n",
       "    </tr>\n",
       "    <tr>\n",
       "      <th>mean</th>\n",
       "      <td>2008.178976</td>\n",
       "      <td>1598.596688</td>\n",
       "      <td>0.714864</td>\n",
       "      <td>6.252147</td>\n",
       "      <td>10.184473</td>\n",
       "      <td>0.286799</td>\n",
       "      <td>30134.535652</td>\n",
       "      <td>-0.402056</td>\n",
       "      <td>5.466768</td>\n",
       "      <td>0.080728</td>\n",
       "      <td>...</td>\n",
       "      <td>0.053933</td>\n",
       "      <td>0.001374</td>\n",
       "      <td>0.001374</td>\n",
       "      <td>0.002405</td>\n",
       "      <td>0.001374</td>\n",
       "      <td>0.093439</td>\n",
       "      <td>0.092752</td>\n",
       "      <td>0.000344</td>\n",
       "      <td>0.005496</td>\n",
       "      <td>0.004122</td>\n",
       "    </tr>\n",
       "    <tr>\n",
       "      <th>std</th>\n",
       "      <td>6.431659</td>\n",
       "      <td>2666.261579</td>\n",
       "      <td>0.281379</td>\n",
       "      <td>3.360419</td>\n",
       "      <td>2.638594</td>\n",
       "      <td>0.808362</td>\n",
       "      <td>13378.520204</td>\n",
       "      <td>0.356919</td>\n",
       "      <td>2.298408</td>\n",
       "      <td>0.272464</td>\n",
       "      <td>...</td>\n",
       "      <td>0.225925</td>\n",
       "      <td>0.037050</td>\n",
       "      <td>0.037050</td>\n",
       "      <td>0.048987</td>\n",
       "      <td>0.037050</td>\n",
       "      <td>0.291096</td>\n",
       "      <td>0.290134</td>\n",
       "      <td>0.018534</td>\n",
       "      <td>0.073946</td>\n",
       "      <td>0.064084</td>\n",
       "    </tr>\n",
       "    <tr>\n",
       "      <th>min</th>\n",
       "      <td>1997.000000</td>\n",
       "      <td>0.600000</td>\n",
       "      <td>0.300000</td>\n",
       "      <td>1.000000</td>\n",
       "      <td>5.000000</td>\n",
       "      <td>-1.670000</td>\n",
       "      <td>13578.000000</td>\n",
       "      <td>-1.203973</td>\n",
       "      <td>-0.510826</td>\n",
       "      <td>0.000000</td>\n",
       "      <td>...</td>\n",
       "      <td>0.000000</td>\n",
       "      <td>0.000000</td>\n",
       "      <td>0.000000</td>\n",
       "      <td>0.000000</td>\n",
       "      <td>0.000000</td>\n",
       "      <td>0.000000</td>\n",
       "      <td>0.000000</td>\n",
       "      <td>0.000000</td>\n",
       "      <td>0.000000</td>\n",
       "      <td>0.000000</td>\n",
       "    </tr>\n",
       "    <tr>\n",
       "      <th>25%</th>\n",
       "      <td>2003.000000</td>\n",
       "      <td>31.095000</td>\n",
       "      <td>0.550000</td>\n",
       "      <td>3.000000</td>\n",
       "      <td>10.000000</td>\n",
       "      <td>-0.260000</td>\n",
       "      <td>19536.000000</td>\n",
       "      <td>-0.597837</td>\n",
       "      <td>3.437045</td>\n",
       "      <td>0.000000</td>\n",
       "      <td>...</td>\n",
       "      <td>0.000000</td>\n",
       "      <td>0.000000</td>\n",
       "      <td>0.000000</td>\n",
       "      <td>0.000000</td>\n",
       "      <td>0.000000</td>\n",
       "      <td>0.000000</td>\n",
       "      <td>0.000000</td>\n",
       "      <td>0.000000</td>\n",
       "      <td>0.000000</td>\n",
       "      <td>0.000000</td>\n",
       "    </tr>\n",
       "    <tr>\n",
       "      <th>50%</th>\n",
       "      <td>2008.000000</td>\n",
       "      <td>197.000000</td>\n",
       "      <td>0.640000</td>\n",
       "      <td>6.000000</td>\n",
       "      <td>12.000000</td>\n",
       "      <td>0.310000</td>\n",
       "      <td>23019.000000</td>\n",
       "      <td>-0.446287</td>\n",
       "      <td>5.283204</td>\n",
       "      <td>0.000000</td>\n",
       "      <td>...</td>\n",
       "      <td>0.000000</td>\n",
       "      <td>0.000000</td>\n",
       "      <td>0.000000</td>\n",
       "      <td>0.000000</td>\n",
       "      <td>0.000000</td>\n",
       "      <td>0.000000</td>\n",
       "      <td>0.000000</td>\n",
       "      <td>0.000000</td>\n",
       "      <td>0.000000</td>\n",
       "      <td>0.000000</td>\n",
       "    </tr>\n",
       "    <tr>\n",
       "      <th>75%</th>\n",
       "      <td>2014.000000</td>\n",
       "      <td>2042.000000</td>\n",
       "      <td>0.790000</td>\n",
       "      <td>9.000000</td>\n",
       "      <td>12.000000</td>\n",
       "      <td>0.960000</td>\n",
       "      <td>40793.000000</td>\n",
       "      <td>-0.235722</td>\n",
       "      <td>7.621681</td>\n",
       "      <td>0.000000</td>\n",
       "      <td>...</td>\n",
       "      <td>0.000000</td>\n",
       "      <td>0.000000</td>\n",
       "      <td>0.000000</td>\n",
       "      <td>0.000000</td>\n",
       "      <td>0.000000</td>\n",
       "      <td>0.000000</td>\n",
       "      <td>0.000000</td>\n",
       "      <td>0.000000</td>\n",
       "      <td>0.000000</td>\n",
       "      <td>0.000000</td>\n",
       "    </tr>\n",
       "    <tr>\n",
       "      <th>max</th>\n",
       "      <td>2019.000000</td>\n",
       "      <td>16033.000000</td>\n",
       "      <td>2.090000</td>\n",
       "      <td>12.000000</td>\n",
       "      <td>12.000000</td>\n",
       "      <td>2.190000</td>\n",
       "      <td>52938.000000</td>\n",
       "      <td>0.737164</td>\n",
       "      <td>9.682404</td>\n",
       "      <td>1.000000</td>\n",
       "      <td>...</td>\n",
       "      <td>1.000000</td>\n",
       "      <td>1.000000</td>\n",
       "      <td>1.000000</td>\n",
       "      <td>1.000000</td>\n",
       "      <td>1.000000</td>\n",
       "      <td>1.000000</td>\n",
       "      <td>1.000000</td>\n",
       "      <td>1.000000</td>\n",
       "      <td>1.000000</td>\n",
       "      <td>1.000000</td>\n",
       "    </tr>\n",
       "  </tbody>\n",
       "</table>\n",
       "<p>8 rows × 51 columns</p>\n",
       "</div>\n",
       "      <button class=\"colab-df-convert\" onclick=\"convertToInteractive('df-7ae989e3-e5e7-45b0-a838-a5a98dce976a')\"\n",
       "              title=\"Convert this dataframe to an interactive table.\"\n",
       "              style=\"display:none;\">\n",
       "        \n",
       "  <svg xmlns=\"http://www.w3.org/2000/svg\" height=\"24px\"viewBox=\"0 0 24 24\"\n",
       "       width=\"24px\">\n",
       "    <path d=\"M0 0h24v24H0V0z\" fill=\"none\"/>\n",
       "    <path d=\"M18.56 5.44l.94 2.06.94-2.06 2.06-.94-2.06-.94-.94-2.06-.94 2.06-2.06.94zm-11 1L8.5 8.5l.94-2.06 2.06-.94-2.06-.94L8.5 2.5l-.94 2.06-2.06.94zm10 10l.94 2.06.94-2.06 2.06-.94-2.06-.94-.94-2.06-.94 2.06-2.06.94z\"/><path d=\"M17.41 7.96l-1.37-1.37c-.4-.4-.92-.59-1.43-.59-.52 0-1.04.2-1.43.59L10.3 9.45l-7.72 7.72c-.78.78-.78 2.05 0 2.83L4 21.41c.39.39.9.59 1.41.59.51 0 1.02-.2 1.41-.59l7.78-7.78 2.81-2.81c.8-.78.8-2.07 0-2.86zM5.41 20L4 18.59l7.72-7.72 1.47 1.35L5.41 20z\"/>\n",
       "  </svg>\n",
       "      </button>\n",
       "      \n",
       "  <style>\n",
       "    .colab-df-container {\n",
       "      display:flex;\n",
       "      flex-wrap:wrap;\n",
       "      gap: 12px;\n",
       "    }\n",
       "\n",
       "    .colab-df-convert {\n",
       "      background-color: #E8F0FE;\n",
       "      border: none;\n",
       "      border-radius: 50%;\n",
       "      cursor: pointer;\n",
       "      display: none;\n",
       "      fill: #1967D2;\n",
       "      height: 32px;\n",
       "      padding: 0 0 0 0;\n",
       "      width: 32px;\n",
       "    }\n",
       "\n",
       "    .colab-df-convert:hover {\n",
       "      background-color: #E2EBFA;\n",
       "      box-shadow: 0px 1px 2px rgba(60, 64, 67, 0.3), 0px 1px 3px 1px rgba(60, 64, 67, 0.15);\n",
       "      fill: #174EA6;\n",
       "    }\n",
       "\n",
       "    [theme=dark] .colab-df-convert {\n",
       "      background-color: #3B4455;\n",
       "      fill: #D2E3FC;\n",
       "    }\n",
       "\n",
       "    [theme=dark] .colab-df-convert:hover {\n",
       "      background-color: #434B5C;\n",
       "      box-shadow: 0px 1px 3px 1px rgba(0, 0, 0, 0.15);\n",
       "      filter: drop-shadow(0px 1px 2px rgba(0, 0, 0, 0.3));\n",
       "      fill: #FFFFFF;\n",
       "    }\n",
       "  </style>\n",
       "\n",
       "      <script>\n",
       "        const buttonEl =\n",
       "          document.querySelector('#df-7ae989e3-e5e7-45b0-a838-a5a98dce976a button.colab-df-convert');\n",
       "        buttonEl.style.display =\n",
       "          google.colab.kernel.accessAllowed ? 'block' : 'none';\n",
       "\n",
       "        async function convertToInteractive(key) {\n",
       "          const element = document.querySelector('#df-7ae989e3-e5e7-45b0-a838-a5a98dce976a');\n",
       "          const dataTable =\n",
       "            await google.colab.kernel.invokeFunction('convertToInteractive',\n",
       "                                                     [key], {});\n",
       "          if (!dataTable) return;\n",
       "\n",
       "          const docLinkHtml = 'Like what you see? Visit the ' +\n",
       "            '<a target=\"_blank\" href=https://colab.research.google.com/notebooks/data_table.ipynb>data table notebook</a>'\n",
       "            + ' to learn more about interactive tables.';\n",
       "          element.innerHTML = '';\n",
       "          dataTable['output_type'] = 'display_data';\n",
       "          await google.colab.output.renderOutput(dataTable, element);\n",
       "          const docLink = document.createElement('div');\n",
       "          docLink.innerHTML = docLinkHtml;\n",
       "          element.appendChild(docLink);\n",
       "        }\n",
       "      </script>\n",
       "    </div>\n",
       "  </div>\n",
       "  "
      ],
      "text/plain": [
       "              year       volumen       precio        month       ubigeo  \\\n",
       "count  2911.000000   2911.000000  2911.000000  2911.000000  2911.000000   \n",
       "mean   2008.178976   1598.596688     0.714864     6.252147    10.184473   \n",
       "std       6.431659   2666.261579     0.281379     3.360419     2.638594   \n",
       "min    1997.000000      0.600000     0.300000     1.000000     5.000000   \n",
       "25%    2003.000000     31.095000     0.550000     3.000000    10.000000   \n",
       "50%    2008.000000    197.000000     0.640000     6.000000    12.000000   \n",
       "75%    2014.000000   2042.000000     0.790000     9.000000    12.000000   \n",
       "max    2019.000000  16033.000000     2.090000    12.000000    12.000000   \n",
       "\n",
       "               spi        import     ln_price       ln_vol       nmes_1  ...  \\\n",
       "count  2777.000000   1725.000000  2911.000000  2911.000000  2911.000000  ...   \n",
       "mean      0.286799  30134.535652    -0.402056     5.466768     0.080728  ...   \n",
       "std       0.808362  13378.520204     0.356919     2.298408     0.272464  ...   \n",
       "min      -1.670000  13578.000000    -1.203973    -0.510826     0.000000  ...   \n",
       "25%      -0.260000  19536.000000    -0.597837     3.437045     0.000000  ...   \n",
       "50%       0.310000  23019.000000    -0.446287     5.283204     0.000000  ...   \n",
       "75%       0.960000  40793.000000    -0.235722     7.621681     0.000000  ...   \n",
       "max       2.190000  52938.000000     0.737164     9.682404     1.000000  ...   \n",
       "\n",
       "       provincia_Pachitea  provincia_Parinacochas  \\\n",
       "count         2911.000000             2911.000000   \n",
       "mean             0.053933                0.001374   \n",
       "std              0.225925                0.037050   \n",
       "min              0.000000                0.000000   \n",
       "25%              0.000000                0.000000   \n",
       "50%              0.000000                0.000000   \n",
       "75%              0.000000                0.000000   \n",
       "max              1.000000                1.000000   \n",
       "\n",
       "       provincia_Paucar Del Sar Sara  provincia_Satipo  provincia_Sucre  \\\n",
       "count                    2911.000000       2911.000000      2911.000000   \n",
       "mean                        0.001374          0.002405         0.001374   \n",
       "std                         0.037050          0.048987         0.037050   \n",
       "min                         0.000000          0.000000         0.000000   \n",
       "25%                         0.000000          0.000000         0.000000   \n",
       "50%                         0.000000          0.000000         0.000000   \n",
       "75%                         0.000000          0.000000         0.000000   \n",
       "max                         1.000000          1.000000         1.000000   \n",
       "\n",
       "       provincia_Tarma  provincia_Tayacaja  provincia_Victor Fajardo  \\\n",
       "count      2911.000000         2911.000000               2911.000000   \n",
       "mean          0.093439            0.092752                  0.000344   \n",
       "std           0.291096            0.290134                  0.018534   \n",
       "min           0.000000            0.000000                  0.000000   \n",
       "25%           0.000000            0.000000                  0.000000   \n",
       "50%           0.000000            0.000000                  0.000000   \n",
       "75%           0.000000            0.000000                  0.000000   \n",
       "max           1.000000            1.000000                  1.000000   \n",
       "\n",
       "       provincia_Vilcas Huaman  provincia_Yauli  \n",
       "count              2911.000000      2911.000000  \n",
       "mean                  0.005496         0.004122  \n",
       "std                   0.073946         0.064084  \n",
       "min                   0.000000         0.000000  \n",
       "25%                   0.000000         0.000000  \n",
       "50%                   0.000000         0.000000  \n",
       "75%                   0.000000         0.000000  \n",
       "max                   1.000000         1.000000  \n",
       "\n",
       "[8 rows x 51 columns]"
      ]
     },
     "execution_count": 10,
     "metadata": {},
     "output_type": "execute_result"
    }
   ],
   "source": [
    "data_dum.describe()"
   ]
  },
  {
   "cell_type": "code",
   "execution_count": null,
   "metadata": {
    "colab": {
     "base_uri": "https://localhost:8080/"
    },
    "id": "mqSHHX_z8bD0",
    "outputId": "b03bb0fc-6c11-43c0-909e-cebd82afe439"
   },
   "outputs": [
    {
     "data": {
      "text/plain": [
       "Index(['mm', 'year', 'variedad', 'volumen', 'precio', 'month', 'ubigeo', 'dep',\n",
       "       'spi', 'import', 'ln_price', 'ln_vol', 'nmes_1', 'nmes_2', 'nmes_3',\n",
       "       'nmes_4', 'nmes_5', 'nmes_6', 'nmes_7', 'nmes_8', 'nmes_9', 'nmes_10',\n",
       "       'nmes_11', 'nmes_12', 'provincia_Cangallo', 'provincia_Chanchamayo',\n",
       "       'provincia_Chupaca', 'provincia_Concepcion',\n",
       "       'provincia_Daniel Alcides Carrion', 'provincia_Dos De Mayo',\n",
       "       'provincia_Huamalies', 'provincia_Huamanga', 'provincia_Huanca Sancos',\n",
       "       'provincia_Huancayo', 'provincia_Huanta', 'provincia_Huanuco',\n",
       "       'provincia_Jauja', 'provincia_Julcan', 'provincia_Junin',\n",
       "       'provincia_La Mar', 'provincia_Leoncio Prado', 'provincia_Lucanas',\n",
       "       'provincia_Maranon', 'provincia_Oxapampa', 'provincia_Pachitea',\n",
       "       'provincia_Parinacochas', 'provincia_Paucar Del Sar Sara',\n",
       "       'provincia_Satipo', 'provincia_Sucre', 'provincia_Tarma',\n",
       "       'provincia_Tayacaja', 'provincia_Victor Fajardo',\n",
       "       'provincia_Vilcas Huaman', 'provincia_Yauli'],\n",
       "      dtype='object')"
      ]
     },
     "execution_count": 17,
     "metadata": {},
     "output_type": "execute_result"
    }
   ],
   "source": [
    "data_dum.columns"
   ]
  },
  {
   "cell_type": "code",
   "execution_count": null,
   "metadata": {
    "id": "h7_Mj1Gs_Bhu"
   },
   "outputs": [],
   "source": [
    "data_dum.drop(['mm', 'variedad', 'month'], axis=1, inplace=True)"
   ]
  },
  {
   "cell_type": "markdown",
   "metadata": {
    "id": "lFZIV-PJ9iOF"
   },
   "source": [
    "Definición de dataset de modelamiento"
   ]
  },
  {
   "cell_type": "code",
   "execution_count": null,
   "metadata": {
    "id": "ThrpKJgw9QI3"
   },
   "outputs": [],
   "source": [
    "scaler = MinMaxScaler()"
   ]
  },
  {
   "cell_type": "code",
   "execution_count": null,
   "metadata": {
    "colab": {
     "base_uri": "https://localhost:8080/"
    },
    "id": "PEL3mIZr9nUP",
    "outputId": "aa2056fe-a747-4cd1-f7be-27266191f578"
   },
   "outputs": [
    {
     "data": {
      "text/plain": [
       "(2911, 44)"
      ]
     },
     "execution_count": 7,
     "metadata": {},
     "output_type": "execute_result"
    }
   ],
   "source": [
    "data_X = data_dum.drop(['precio', 'ubigeo', 'spi', 'import', 'ln_price', 'ln_vol', 'ubigeo', 'dep'], axis = 1)\n",
    "X = np.array(data_X)\n",
    "scaler.fit(X)\n",
    "X = scaler.transform(X)\n",
    "X.shape"
   ]
  },
  {
   "cell_type": "code",
   "execution_count": null,
   "metadata": {
    "colab": {
     "base_uri": "https://localhost:8080/"
    },
    "id": "qJuLpjpj91Hp",
    "outputId": "7afe2501-0986-42f5-c74d-2fd19b79d5ba"
   },
   "outputs": [
    {
     "data": {
      "text/plain": [
       "(2911, 1)"
      ]
     },
     "execution_count": 8,
     "metadata": {},
     "output_type": "execute_result"
    }
   ],
   "source": [
    "y = np.array(data_dum.precio).reshape(-1,1)\n",
    "scaler.fit(y)\n",
    "y = scaler.transform(y)\n",
    "y.shape"
   ]
  },
  {
   "cell_type": "markdown",
   "metadata": {
    "id": "C831EBmrBbPr"
   },
   "source": [
    "Generamos el modelo"
   ]
  },
  {
   "cell_type": "code",
   "execution_count": null,
   "metadata": {
    "colab": {
     "base_uri": "https://localhost:8080/"
    },
    "id": "IVE_J3I0AnHQ",
    "outputId": "61fefb34-7c62-4b03-f98a-d225aae85614"
   },
   "outputs": [
    {
     "data": {
      "text/plain": [
       "(torch.Size([2911, 44]), torch.Size([2911, 1]))"
      ]
     },
     "execution_count": 9,
     "metadata": {},
     "output_type": "execute_result"
    }
   ],
   "source": [
    "X_np = X.astype(np.float64)\n",
    "y_np = y.astype(np.float32)\n",
    "X_tn= torch.from_numpy(X_np)\n",
    "y_tn = torch.from_numpy(y_np.reshape(-1, 1))\n",
    "X_tn.shape, y_tn.shape"
   ]
  },
  {
   "cell_type": "code",
   "execution_count": null,
   "metadata": {
    "id": "G2qRbXorBoZZ"
   },
   "outputs": [],
   "source": [
    "np.save('X_np.np', X_np)\n",
    "np.save('y_np.np', y_np)"
   ]
  },
  {
   "cell_type": "code",
   "execution_count": null,
   "metadata": {
    "id": "7V2OBUe5CEk6"
   },
   "outputs": [],
   "source": [
    "model = nn.Sequential(\n",
    "  nn.Linear(44, 512),\n",
    "  nn.ReLU(),\n",
    "  nn.Linear(512, 128),\n",
    "  nn.ReLU(),\n",
    "  nn.Linear(128, 32),\n",
    "  nn.ReLU(),\n",
    "  nn.Linear(32, 4),\n",
    "  nn.ReLU(),\n",
    "  nn.Linear(4, 1),\n",
    ")"
   ]
  },
  {
   "cell_type": "code",
   "execution_count": null,
   "metadata": {
    "id": "RrzUZ5pSE9kc"
   },
   "outputs": [],
   "source": [
    "optimizador = torch.optim.SGD(model.parameters(), lr=0.001, momentum=0)\n",
    "criterio = torch.nn.MSELoss()"
   ]
  },
  {
   "cell_type": "code",
   "execution_count": null,
   "metadata": {
    "colab": {
     "base_uri": "https://localhost:8080/"
    },
    "id": "iYJofmN8FCLJ",
    "outputId": "274b2b65-05f3-48ff-ad49-398155bc2fbc"
   },
   "outputs": [
    {
     "data": {
      "text/plain": [
       "(1, 'Tesla T4')"
      ]
     },
     "execution_count": 26,
     "metadata": {},
     "output_type": "execute_result"
    }
   ],
   "source": [
    "torch.cuda.device_count(), torch.cuda.get_device_name(0)"
   ]
  },
  {
   "cell_type": "code",
   "execution_count": null,
   "metadata": {
    "id": "nxMLdzYbaPcs"
   },
   "outputs": [],
   "source": [
    "model.cuda()\n",
    "X_g = X_tn.float().cuda()\n",
    "y_g = y_tn.cuda()"
   ]
  },
  {
   "cell_type": "code",
   "execution_count": null,
   "metadata": {
    "colab": {
     "base_uri": "https://localhost:8080/"
    },
    "id": "OutMr3M7FDdF",
    "outputId": "1b790c82-3324-457e-bce6-ee97045f88e7"
   },
   "outputs": [
    {
     "data": {
      "text/plain": [
       "(torch.Size([2911, 44]), torch.Size([2911, 1]))"
      ]
     },
     "execution_count": 28,
     "metadata": {},
     "output_type": "execute_result"
    }
   ],
   "source": [
    "X_g.shape, y_g.shape"
   ]
  },
  {
   "cell_type": "code",
   "execution_count": null,
   "metadata": {
    "id": "tCvbrAh6aLD-"
   },
   "outputs": [],
   "source": [
    "errores = []\n",
    "preds = []\n",
    "nit = -1\n",
    "EPOCS = 1000000"
   ]
  },
  {
   "cell_type": "code",
   "execution_count": null,
   "metadata": {
    "colab": {
     "base_uri": "https://localhost:8080/"
    },
    "id": "onHRPC6QaUkJ",
    "outputId": "0c065054-5cc3-4f1a-b42b-07b98c76bcb2"
   },
   "outputs": [
    {
     "name": "stdout",
     "output_type": "stream",
     "text": [
      "0 0.08717550337314606\n",
      "100000 0.017281610518693924\n",
      "200000 0.016407325863838196\n",
      "300000 0.016305817291140556\n",
      "400000 0.01622692495584488\n",
      "500000 0.016154758632183075\n",
      "600000 0.01608673483133316\n",
      "700000 0.01601998880505562\n",
      "800000 0.015951041132211685\n",
      "900000 0.015881331637501717\n"
     ]
    }
   ],
   "source": [
    "nit += 1\n",
    "for epo in range(EPOCS):\n",
    "  optimizador.zero_grad()\n",
    "  y_pred = model(X_g)\n",
    "  loss = criterio(y_pred, y_g)\n",
    "  loss.backward()\n",
    "  optimizador.step()\n",
    "  if epo % int(EPOCS/10) == 0:\n",
    "    print(epo, loss.item())\n",
    "    errores.append([epo+nit*EPOCS, loss.item()])\n",
    "    pred = y_pred.cpu().detach().numpy()\n",
    "    preds.append(pred)"
   ]
  },
  {
   "cell_type": "code",
   "execution_count": null,
   "metadata": {
    "colab": {
     "base_uri": "https://localhost:8080/",
     "height": 897
    },
    "id": "0i27R9SXaWd4",
    "outputId": "8985caff-1429-4ab9-f98c-41db931331eb"
   },
   "outputs": [
    {
     "data": {
      "image/png": "[encoded data removed]",
      "text/plain": [
       "<Figure size 1080x1080 with 1 Axes>"
      ]
     },
     "metadata": {},
     "output_type": "display_data"
    }
   ],
   "source": [
    "#@title Gráfica\n",
    "f = plt.figure(figsize=(15,15), facecolor='lightgray')\n",
    "\n",
    "ax1 = f.add_subplot(111)\n",
    "ax1.plot(y_np, pred, 'bo', ms=2, label='Red Neuronal')\n",
    "ax1.plot([0,1], [0, 1], 'b:', lw=2)\n",
    "ax1.set_title('Resultado de Iteración Red Neuronal', fontsize=18)\n",
    "plt.xlabel('y original')\n",
    "plt.ylabel('y predicho')\n",
    "plt.grid(True)\n",
    "plt.savefig('alineamiento2.jpg')\n",
    "plt.show()"
   ]
  },
  {
   "cell_type": "code",
   "execution_count": null,
   "metadata": {
    "colab": {
     "base_uri": "https://localhost:8080/",
     "height": 34
    },
    "id": "BZR2X5M2ld-T",
    "outputId": "47f4f6f8-5532-45db-dc51-add1a2a1141f"
   },
   "outputs": [
    {
     "data": {
      "text/plain": [
       "<Figure size 432x288 with 0 Axes>"
      ]
     },
     "metadata": {},
     "output_type": "display_data"
    }
   ],
   "source": [
    "plt.savefig('plot.png', format='png')"
   ]
  },
  {
   "cell_type": "code",
   "execution_count": null,
   "metadata": {
    "id": "jJxdt0UUliqS"
   },
   "outputs": [],
   "source": []
  }
 ],
 "metadata": {
  "accelerator": "GPU",
  "colab": {
   "provenance": []
  },
  "gpuClass": "standard",
  "kernelspec": {
   "display_name": "Python 3 (ipykernel)",
   "language": "python",
   "name": "python3"
  },
  "language_info": {
   "codemirror_mode": {
    "name": "ipython",
    "version": 3
   },
   "file_extension": ".py",
   "mimetype": "text/x-python",
   "name": "python",
   "nbconvert_exporter": "python",
   "pygments_lexer": "ipython3",
   "version": "3.9.7"
  }
 },
 "nbformat": 4,
 "nbformat_minor": 1
}
